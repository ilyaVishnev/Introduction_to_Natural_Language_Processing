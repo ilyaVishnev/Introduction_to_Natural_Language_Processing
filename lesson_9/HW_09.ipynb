{
 "cells": [
  {
   "cell_type": "code",
   "execution_count": 1,
   "metadata": {
    "id": "a1BNIi6yjsoi"
   },
   "outputs": [],
   "source": [
    "import tensorflow as tf\n",
    "\n",
    "import numpy as np\n",
    "import os\n",
    "import time"
   ]
  },
  {
   "cell_type": "code",
   "execution_count": 2,
   "metadata": {
    "id": "ytR886_9j0AT"
   },
   "outputs": [],
   "source": [
    "path_to_file = 'evgenyi_onegin.txt'"
   ]
  },
  {
   "cell_type": "code",
   "execution_count": 3,
   "metadata": {
    "colab": {
     "base_uri": "https://localhost:8080/"
    },
    "id": "53gpFOjdkCDz",
    "outputId": "89377e06-d93d-4ef9-e0af-ebfd7b48f25d"
   },
   "outputs": [
    {
     "name": "stdout",
     "output_type": "stream",
     "text": [
      "Length of text: 286984 characters\n"
     ]
    }
   ],
   "source": [
    "text = open(path_to_file, 'rb').read().decode(encoding='utf-8')\n",
    "# Delete Unicode spescial symbol \\ufeff\n",
    "text = text.replace('\\ufeff', '')\n",
    "# length of text is the number of characters in it\n",
    "print('Length of text: {} characters'.format(len(text)))"
   ]
  },
  {
   "cell_type": "code",
   "execution_count": 4,
   "metadata": {
    "colab": {
     "base_uri": "https://localhost:8080/"
    },
    "id": "4vvlJ7RHkG4V",
    "outputId": "50e56952-3216-4d1f-afcd-4d5fab223a2b"
   },
   "outputs": [
    {
     "name": "stdout",
     "output_type": "stream",
     "text": [
      "Александр Сергеевич Пушкин\n",
      "\n",
      "                                Евгений Онегин\n",
      "                                Роман в стихах\n",
      "\n",
      "                        Не мысля гордый свет забавить,\n",
      "                        Вниманье дружбы возлюбя,\n",
      "                        Хотел бы я тебе представить\n",
      "                        Залог достойнее тебя,\n",
      "                        Достойнее души прекрасной,\n",
      "                        Святой исполненной мечты,\n",
      "                        Поэзии живой и ясной,\n",
      "                        Высо\n"
     ]
    }
   ],
   "source": [
    "print(text[:500])"
   ]
  },
  {
   "cell_type": "code",
   "execution_count": 5,
   "metadata": {
    "id": "uVJRjnTWkojh"
   },
   "outputs": [],
   "source": [
    "text = text + text"
   ]
  },
  {
   "cell_type": "code",
   "execution_count": 6,
   "metadata": {
    "colab": {
     "base_uri": "https://localhost:8080/"
    },
    "id": "yIZHSLBakye7",
    "outputId": "034a4468-3fdb-4a3f-811c-ccd5cccbed44"
   },
   "outputs": [
    {
     "name": "stdout",
     "output_type": "stream",
     "text": [
      "131 unique characters\n"
     ]
    }
   ],
   "source": [
    "# The unique characters in the file\n",
    "vocab = sorted(set(text))\n",
    "print('{} unique characters'.format(len(vocab)))"
   ]
  },
  {
   "cell_type": "code",
   "execution_count": 7,
   "metadata": {
    "id": "nwQjhg5rk1xO"
   },
   "outputs": [],
   "source": [
    "# Creating a mapping from unique characters to indices\n",
    "char2idx = {u:i for i, u in enumerate(vocab)}\n",
    "idx2char = np.array(vocab)\n",
    "\n",
    "text_as_int = np.array([char2idx[c] for c in text])"
   ]
  },
  {
   "cell_type": "code",
   "execution_count": 8,
   "metadata": {
    "colab": {
     "base_uri": "https://localhost:8080/"
    },
    "id": "_bGQs0nbk6FE",
    "outputId": "538b4eda-1c38-4d19-a7cd-c53cb3459f6a"
   },
   "outputs": [
    {
     "data": {
      "text/plain": [
       "(array([ 71, 110, 104, ..., 104, 121,   0]),\n",
       " 'Александр Сергеевич Пушкин\\n\\n                                Евгений Онегин\\n                                Роман в стихах\\n\\n                        Не мысля гордый свет забавить,\\n                        Вниманье дружбы возлюбя,\\n                        Хотел бы я тебе представить\\n                        Залог достойнее тебя,\\n                        Достойнее души прекрасной,\\n                        Святой исполненной мечты,\\n                        Поэзии живой и ясной,\\n                        Высоких дум и простоты;\\n                        Но так и быть - рукой пристрастной\\n                        Прими собранье пестрых глав,\\n                        Полусмешных, полупечальных,\\n                        Простонародных, идеальных,\\n                        Небрежный плод моих забав,\\n                        Бессонниц, легких вдохновений,\\n                        Незрелых и увядших лет,\\n                        Ума холодных наблюдений\\n                        И сердца горестных замет.\\n\\n                                 ГЛАВА ПЕРВАЯ\\n\\n                                        И жить торопится и чувствовать спешит.\\n                                                                Кн. Вяземский.\\n\\n                                      I\\n\\n                        \"Мой дядя самых честных правил,\\n                        Когда не в шутку занемог,\\n                        Он уважать себя заставил\\n                        И лучше выдумать не мог.\\n                        Его пример другим наука;\\n                        Но, боже мой, какая скука\\n                        С больным сидеть и день и ночь,\\n                        Не отходя ни шагу прочь!\\n                        Какое низкое коварство\\n                        Полуживого забавлять,\\n                        Ему подушки поправлять,\\n                        Печально подносить лекарство,\\n                        Вздыхать и думать про себя:\\n                        Когда же черт возьмет тебя!\"\\n\\n                                      II\\n\\n              ',\n",
       " 573968,\n",
       " 573968)"
      ]
     },
     "execution_count": 8,
     "metadata": {},
     "output_type": "execute_result"
    }
   ],
   "source": [
    "text_as_int, text[:2000], len(text_as_int), len(text)"
   ]
  },
  {
   "cell_type": "code",
   "execution_count": 9,
   "metadata": {
    "colab": {
     "base_uri": "https://localhost:8080/"
    },
    "id": "PI1MdzOPlGLp",
    "outputId": "083b8964-5828-4bd3-fa8d-df8ad1b92ac2"
   },
   "outputs": [
    {
     "name": "stdout",
     "output_type": "stream",
     "text": [
      "А\n",
      "л\n",
      "е\n",
      "к\n",
      "с\n"
     ]
    }
   ],
   "source": [
    "# The maximum length sentence you want for a single input in characters\n",
    "seq_length = 100\n",
    "examples_per_epoch = len(text)//(seq_length+1)\n",
    "\n",
    "# Create training examples / targets\n",
    "char_dataset = tf.data.Dataset.from_tensor_slices(text_as_int)\n",
    "\n",
    "for i in char_dataset.take(5):\n",
    "    print(idx2char[i.numpy()])"
   ]
  },
  {
   "cell_type": "code",
   "execution_count": 10,
   "metadata": {
    "colab": {
     "base_uri": "https://localhost:8080/"
    },
    "id": "y1bYtb-wmOSh",
    "outputId": "80b61f27-2c77-475b-d434-7578c04ff7a2"
   },
   "outputs": [
    {
     "name": "stdout",
     "output_type": "stream",
     "text": [
      "'Александр Сергеевич Пушкин\\n\\n                                Евгений Онегин\\n                          '\n",
      "'      Роман в стихах\\n\\n                        Не мысля гордый свет забавить,\\n                        '\n",
      "'Вниманье дружбы возлюбя,\\n                        Хотел бы я тебе представить\\n                        '\n",
      "'Залог достойнее тебя,\\n                        Достойнее души прекрасной,\\n                        Свят'\n",
      "'ой исполненной мечты,\\n                        Поэзии живой и ясной,\\n                        Высоких д'\n"
     ]
    }
   ],
   "source": [
    "sequences = char_dataset.batch(seq_length+1, drop_remainder=True)\n",
    "\n",
    "for item in sequences.take(5):\n",
    "    print(repr(''.join(idx2char[item.numpy()])))"
   ]
  },
  {
   "cell_type": "code",
   "execution_count": 11,
   "metadata": {
    "id": "WaTx6jYfmUtn"
   },
   "outputs": [],
   "source": [
    "def split_input_target(chunk):\n",
    "    input_text = chunk[:-1]\n",
    "    target_text = chunk[1:]\n",
    "    return input_text, target_text\n",
    "\n",
    "dataset = sequences.map(split_input_target)"
   ]
  },
  {
   "cell_type": "code",
   "execution_count": 12,
   "metadata": {
    "colab": {
     "base_uri": "https://localhost:8080/"
    },
    "id": "T9eb2PhZmeKs",
    "outputId": "e64b5076-631e-4f05-edcd-86f5aa250f82"
   },
   "outputs": [
    {
     "name": "stdout",
     "output_type": "stream",
     "text": [
      "Input data:  'Александр Сергеевич Пушкин\\n\\n                                Евгений Онегин\\n                         '\n",
      "Target data: 'лександр Сергеевич Пушкин\\n\\n                                Евгений Онегин\\n                          '\n"
     ]
    }
   ],
   "source": [
    "for input_example, target_example in  dataset.take(1):\n",
    "    print('Input data: ', repr(''.join(idx2char[input_example.numpy()])))\n",
    "    print('Target data:', repr(''.join(idx2char[target_example.numpy()])))"
   ]
  },
  {
   "cell_type": "code",
   "execution_count": 13,
   "metadata": {
    "colab": {
     "base_uri": "https://localhost:8080/"
    },
    "id": "_HPK0vwQmhX9",
    "outputId": "a5574aab-000b-4c8a-f47d-b69b5a004404"
   },
   "outputs": [
    {
     "data": {
      "text/plain": [
       "<_BatchDataset element_spec=(TensorSpec(shape=(64, 100), dtype=tf.int32, name=None), TensorSpec(shape=(64, 100), dtype=tf.int32, name=None))>"
      ]
     },
     "execution_count": 13,
     "metadata": {},
     "output_type": "execute_result"
    }
   ],
   "source": [
    "# Batch size\n",
    "BATCH_SIZE = 64\n",
    "\n",
    "BUFFER_SIZE = 10000\n",
    "\n",
    "dataset = dataset.shuffle(BUFFER_SIZE).batch(BATCH_SIZE, drop_remainder=True)\n",
    "\n",
    "dataset"
   ]
  },
  {
   "cell_type": "code",
   "execution_count": 14,
   "metadata": {
    "id": "Jy6ahPPNmnCt"
   },
   "outputs": [],
   "source": [
    "# Length of the vocabulary in chars\n",
    "vocab_size = len(vocab)\n",
    "\n",
    "# The embedding dimension\n",
    "embedding_dim = 256\n",
    "\n",
    "# Number of RNN units\n",
    "rnn_units = 1024"
   ]
  },
  {
   "cell_type": "code",
   "execution_count": 15,
   "metadata": {
    "id": "HaIhlwSjmqPc"
   },
   "outputs": [],
   "source": [
    "def build_model(vocab_size, embedding_dim, rnn_units, batch_size):\n",
    "    model = tf.keras.Sequential([\n",
    "        tf.keras.layers.Embedding(vocab_size, embedding_dim,\n",
    "                                  batch_input_shape=[batch_size, None]),\n",
    "                                 \n",
    "        tf.keras.layers.LSTM(rnn_units,\n",
    "                            return_sequences=True,\n",
    "                            stateful=True,\n",
    "                            recurrent_initializer='glorot_uniform'),\n",
    "\n",
    "        tf.keras.layers.LSTM(rnn_units,\n",
    "                            return_sequences=True,\n",
    "                            stateful=True,\n",
    "                            recurrent_initializer='glorot_uniform'),\n",
    "\n",
    "         tf.keras.layers.LSTM(rnn_units,\n",
    "                            return_sequences=True,\n",
    "                            stateful=True,\n",
    "                            recurrent_initializer='glorot_uniform'),\n",
    "        \n",
    "        tf.keras.layers.LSTM(rnn_units,\n",
    "                            return_sequences=True,\n",
    "                            stateful=True,\n",
    "                            recurrent_initializer='glorot_uniform'),\n",
    "                                   \n",
    "        tf.keras.layers.Dense(vocab_size)\n",
    "    ])\n",
    "    return model"
   ]
  },
  {
   "cell_type": "code",
   "execution_count": 16,
   "metadata": {
    "id": "UVGzXqKBIJdx"
   },
   "outputs": [],
   "source": [
    "model = build_model(\n",
    "    vocab_size=len(vocab),\n",
    "    embedding_dim=embedding_dim,\n",
    "    rnn_units=rnn_units,\n",
    "    batch_size=BATCH_SIZE)"
   ]
  },
  {
   "cell_type": "code",
   "execution_count": 17,
   "metadata": {
    "colab": {
     "base_uri": "https://localhost:8080/"
    },
    "id": "Yb0KKcVHIQOO",
    "outputId": "28efd289-8894-4987-8eca-832bed75c187"
   },
   "outputs": [
    {
     "name": "stdout",
     "output_type": "stream",
     "text": [
      "(64, 100, 131) # (batch_size, sequence_length, vocab_size)\n"
     ]
    }
   ],
   "source": [
    "for input_example_batch, target_example_batch in dataset.take(1):\n",
    "    example_batch_predictions = model(input_example_batch)\n",
    "    print(example_batch_predictions.shape, \"# (batch_size, sequence_length, vocab_size)\")"
   ]
  },
  {
   "cell_type": "code",
   "execution_count": 18,
   "metadata": {
    "colab": {
     "base_uri": "https://localhost:8080/"
    },
    "id": "CCo_frzxITpe",
    "outputId": "f149eb07-b191-4ddc-8d3e-c25987ee204c"
   },
   "outputs": [
    {
     "name": "stdout",
     "output_type": "stream",
     "text": [
      "Model: \"sequential\"\n",
      "_________________________________________________________________\n",
      " Layer (type)                Output Shape              Param #   \n",
      "=================================================================\n",
      " embedding (Embedding)       (64, None, 256)           33536     \n",
      "                                                                 \n",
      " lstm (LSTM)                 (64, None, 1024)          5246976   \n",
      "                                                                 \n",
      " lstm_1 (LSTM)               (64, None, 1024)          8392704   \n",
      "                                                                 \n",
      " lstm_2 (LSTM)               (64, None, 1024)          8392704   \n",
      "                                                                 \n",
      " lstm_3 (LSTM)               (64, None, 1024)          8392704   \n",
      "                                                                 \n",
      " dense (Dense)               (64, None, 131)           134275    \n",
      "                                                                 \n",
      "=================================================================\n",
      "Total params: 30592899 (116.70 MB)\n",
      "Trainable params: 30592899 (116.70 MB)\n",
      "Non-trainable params: 0 (0.00 Byte)\n",
      "_________________________________________________________________\n"
     ]
    }
   ],
   "source": [
    "model.summary()"
   ]
  },
  {
   "cell_type": "code",
   "execution_count": 19,
   "metadata": {
    "colab": {
     "base_uri": "https://localhost:8080/"
    },
    "id": "Q3Sc_ZZ-Idk8",
    "outputId": "1ed44c70-a060-4c5e-b343-2ca1bf614a93"
   },
   "outputs": [
    {
     "data": {
      "text/plain": [
       "<tf.Tensor: shape=(100, 131), dtype=float32, numpy=\n",
       "array([[ 1.3255394e-05,  2.1566248e-06, -1.4848262e-05, ...,\n",
       "         3.2753778e-06,  1.2306136e-05, -4.2851352e-06],\n",
       "       [ 2.7282162e-05,  6.6262000e-06, -3.6423706e-05, ...,\n",
       "        -1.8177878e-05,  3.3436947e-05,  8.2152255e-06],\n",
       "       [ 2.6252223e-05,  2.1742148e-05, -5.4782715e-05, ...,\n",
       "        -8.3773783e-05,  5.6816985e-05,  6.1400708e-05],\n",
       "       ...,\n",
       "       [-1.4324571e-03,  3.2568444e-03, -4.7963746e-03, ...,\n",
       "         2.6146235e-04,  1.3506110e-03,  3.2545729e-03],\n",
       "       [-1.1628888e-03,  3.0355649e-03, -4.4587543e-03, ...,\n",
       "         3.4023129e-04,  1.1814975e-03,  3.0051989e-03],\n",
       "       [-8.6545944e-04,  2.8217616e-03, -4.1176705e-03, ...,\n",
       "         3.8646744e-04,  1.0331520e-03,  2.7683191e-03]], dtype=float32)>"
      ]
     },
     "execution_count": 19,
     "metadata": {},
     "output_type": "execute_result"
    }
   ],
   "source": [
    "example_batch_predictions[0]"
   ]
  },
  {
   "cell_type": "code",
   "execution_count": 20,
   "metadata": {
    "id": "LArorNHLInq6"
   },
   "outputs": [],
   "source": [
    "sampled_indices = tf.random.categorical(example_batch_predictions[0], num_samples=1)\n",
    "sampled_indices = tf.squeeze(sampled_indices,axis=-1).numpy()"
   ]
  },
  {
   "cell_type": "code",
   "execution_count": 21,
   "metadata": {
    "colab": {
     "base_uri": "https://localhost:8080/"
    },
    "id": "nOmNC8ZyIuNu",
    "outputId": "b79c539e-bde1-4aef-ffc5-bd0629ecd61a"
   },
   "outputs": [
    {
     "name": "stdout",
     "output_type": "stream",
     "text": [
      "Input: \n",
      " '\\n                        Все в изумленье. Ленский сам\\n                        Не верит собственным г'\n",
      "\n",
      "Next Char Predictions: \n",
      " 'ЬщSkiSYмbХХcсВMйEчЕЮhQщфq:НAP}TкДsшТн\"ъДSOR\"ВD0Ц,iК\"lCюЖnTЬ\"р.ьASиT;YBp7)rlк-яуuSoуЖбWhlГн5эТBz9сРQм'\n"
     ]
    }
   ],
   "source": [
    "print(\"Input: \\n\", repr(\"\".join(idx2char[input_example_batch[0]])))\n",
    "print()\n",
    "print(\"Next Char Predictions: \\n\", repr(\"\".join(idx2char[sampled_indices ])))"
   ]
  },
  {
   "cell_type": "code",
   "execution_count": 22,
   "metadata": {
    "colab": {
     "base_uri": "https://localhost:8080/"
    },
    "id": "MxFAY98WIy2K",
    "outputId": "172b8281-b88f-4ff8-d492-0302626c4a73"
   },
   "outputs": [
    {
     "name": "stdout",
     "output_type": "stream",
     "text": [
      "Prediction shape:  (64, 100, 131)  # (batch_size, sequence_length, vocab_size)\n",
      "scalar_loss:       4.873101\n"
     ]
    }
   ],
   "source": [
    "def loss(labels, logits):\n",
    "    return tf.keras.losses.sparse_categorical_crossentropy(labels, logits, from_logits=True)\n",
    "\n",
    "example_batch_loss = loss(target_example_batch, example_batch_predictions)\n",
    "print(\"Prediction shape: \", example_batch_predictions.shape, \" # (batch_size, sequence_length, vocab_size)\")\n",
    "print(\"scalar_loss:      \", example_batch_loss.numpy().mean())"
   ]
  },
  {
   "cell_type": "code",
   "execution_count": 23,
   "metadata": {
    "id": "IzOGWWHXI-u2"
   },
   "outputs": [],
   "source": [
    "model.compile(optimizer='adam', loss=loss)"
   ]
  },
  {
   "cell_type": "code",
   "execution_count": 24,
   "metadata": {
    "id": "RgKMpH10JIyD"
   },
   "outputs": [],
   "source": [
    "# Directory where the checkpoints will be saved\n",
    "checkpoint_dir = './training_checkpoints'\n",
    "# Name of the checkpoint files\n",
    "checkpoint_prefix = os.path.join(checkpoint_dir, \"ckpt_{epoch}\")\n",
    "\n",
    "checkpoint_callback = tf.keras.callbacks.ModelCheckpoint(\n",
    "    filepath=checkpoint_prefix,\n",
    "    save_freq=7*10,\n",
    "    save_weights_only=True)"
   ]
  },
  {
   "cell_type": "code",
   "execution_count": 25,
   "metadata": {
    "colab": {
     "base_uri": "https://localhost:8080/"
    },
    "id": "wlGVghMMKGnV",
    "outputId": "20d0c9a5-bbb6-4c24-8ead-e50763cfae8f"
   },
   "outputs": [
    {
     "name": "stdout",
     "output_type": "stream",
     "text": [
      "Epoch 1/5\n"
     ]
    },
    {
     "name": "stdout",
     "output_type": "stream",
     "text": [
      "88/88 [==============================] - 10739s 121s/step - loss: 2.1941\n",
      "Epoch 2/5\n",
      "88/88 [==============================] - 11078s 126s/step - loss: 1.6410\n",
      "Epoch 3/5\n",
      "88/88 [==============================] - 10245s 116s/step - loss: 1.4492\n",
      "Epoch 4/5\n",
      "88/88 [==============================] - 11948s 136s/step - loss: 1.3712\n",
      "Epoch 5/5\n",
      "88/88 [==============================] - 11538s 131s/step - loss: 1.3345\n"
     ]
    }
   ],
   "source": [
    "EPOCHS = 5\n",
    "history = model.fit(dataset, epochs=EPOCHS, callbacks=[checkpoint_callback])"
   ]
  },
  {
   "cell_type": "code",
   "execution_count": 26,
   "metadata": {
    "colab": {
     "base_uri": "https://localhost:8080/",
     "height": 35
    },
    "id": "h1q8cN53KVoW",
    "outputId": "5d159fb3-b98c-4674-f4a6-6f24d233acc1"
   },
   "outputs": [
    {
     "data": {
      "text/plain": [
       "'./training_checkpoints\\\\ckpt_5'"
      ]
     },
     "execution_count": 26,
     "metadata": {},
     "output_type": "execute_result"
    }
   ],
   "source": [
    "tf.train.latest_checkpoint(checkpoint_dir)"
   ]
  },
  {
   "cell_type": "code",
   "execution_count": 27,
   "metadata": {
    "id": "vqdrgbPYQV-m"
   },
   "outputs": [],
   "source": [
    "model = build_model(vocab_size, embedding_dim, rnn_units, batch_size=1)\n",
    "model.load_weights(tf.train.latest_checkpoint(checkpoint_dir))\n",
    "model.build(tf.TensorShape([1, None]))"
   ]
  },
  {
   "cell_type": "code",
   "execution_count": 28,
   "metadata": {
    "colab": {
     "base_uri": "https://localhost:8080/"
    },
    "id": "JDdvmbuqQZ6Y",
    "outputId": "096eb5af-164d-46dc-8f33-2714e9217610"
   },
   "outputs": [
    {
     "name": "stdout",
     "output_type": "stream",
     "text": [
      "Model: \"sequential_1\"\n",
      "_________________________________________________________________\n",
      " Layer (type)                Output Shape              Param #   \n",
      "=================================================================\n"
     ]
    },
    {
     "name": "stdout",
     "output_type": "stream",
     "text": [
      " embedding_1 (Embedding)     (1, None, 256)            33536     \n",
      "                                                                 \n",
      " lstm_4 (LSTM)               (1, None, 1024)           5246976   \n",
      "                                                                 \n",
      " lstm_5 (LSTM)               (1, None, 1024)           8392704   \n",
      "                                                                 \n",
      " lstm_6 (LSTM)               (1, None, 1024)           8392704   \n",
      "                                                                 \n",
      " lstm_7 (LSTM)               (1, None, 1024)           8392704   \n",
      "                                                                 \n",
      " dense_1 (Dense)             (1, None, 131)            134275    \n",
      "                                                                 \n",
      "=================================================================\n",
      "Total params: 30592899 (116.70 MB)\n",
      "Trainable params: 30592899 (116.70 MB)\n",
      "Non-trainable params: 0 (0.00 Byte)\n",
      "_________________________________________________________________\n"
     ]
    }
   ],
   "source": [
    "model.summary()"
   ]
  },
  {
   "cell_type": "code",
   "execution_count": 29,
   "metadata": {
    "id": "Y1AwN3mXQczl"
   },
   "outputs": [],
   "source": [
    "def generate_text(model, start_string, temperature=1, num_generate=500):\n",
    "    # Evaluation step (generating text using the learned model)\n",
    "\n",
    "    # Number of characters to generate\n",
    "    num_generate = num_generate\n",
    "\n",
    "    # Converting our start string to numbers (vectorizing)\n",
    "    input_eval = [char2idx[s] for s in start_string]\n",
    "    input_eval = tf.expand_dims(input_eval, 0)\n",
    "\n",
    "    # Empty string to store our results\n",
    "    text_generated = []\n",
    "\n",
    "    # Low temperature results in more predictable text.\n",
    "    # Higher temperature results in more surprising text.\n",
    "    # Experiment to find the best setting.\n",
    "    temperature = temperature\n",
    "\n",
    "    # Here batch size == 1\n",
    "    model.reset_states()\n",
    "    for i in range(num_generate):\n",
    "        predictions = model(input_eval)\n",
    "        predictions = tf.squeeze(predictions, 0)\n",
    "        # using a categorical distribution to predict the character returned by the model\n",
    "        predictions = predictions / temperature\n",
    "        predicted_id = tf.random.categorical(predictions, num_samples=1)[-1, 0].numpy()\n",
    "\n",
    "        # Pass the predicted character as the next input to the model\n",
    "        # along with the previous hidden state\n",
    "        input_eval = tf.expand_dims([predicted_id], 0)\n",
    "\n",
    "        text_generated.append(idx2char[predicted_id])\n",
    "\n",
    "    return (start_string + ''.join(text_generated))"
   ]
  },
  {
   "cell_type": "code",
   "execution_count": 35,
   "metadata": {
    "colab": {
     "base_uri": "https://localhost:8080/"
    },
    "id": "mVmoyLLVQ74Y",
    "outputId": "1780b492-91c6-4f07-daf7-cb77d1caafc2"
   },
   "outputs": [
    {
     "name": "stdout",
     "output_type": "stream",
     "text": [
      "Что то там такое написаноLЬE26'Нsщ}T}06oyщDaqVЖqLo8{hpР8И}oCpmдЭF}ipBnЮmTI0n{LzЮWFXE3yЛ2у3Е}u3qЮpЬЬ79y3B3qЮэыqЭф2ЭpQ:}oWЕ6nAE}ЦI1onЕТlO3Q3ЭaDqл}:щEL0К}щEpEVщC}ГЗon3NC}NBE8эшqШtW6КЗфtЦpQКHa3БGr}EEE'iCНoЭQ8Ю}LДЬAAЬ МК6Дp2p8Пi'lEК}7ЬБEэrй,ныо, се \n",
      "\n",
      "              И мошо! Абпацугке? Вуматявры\n",
      "                        Уебука Ассьяхищей 6ндыквом\n",
      "                        накялотлемям Ора омничоцо\n",
      "        ежгиве,\n",
      "        Схе ласытет пюреллы вбевтюйл  (Язонея ито\n",
      "                        Вой,\n",
      "        Кочнийло? и ллогно:\n",
      "            \n"
     ]
    }
   ],
   "source": [
    "text_ = generate_text(model, start_string=u\"Что то там такое написано\", temperature=1.3)\n",
    "print(text_)"
   ]
  },
  {
   "cell_type": "markdown",
   "metadata": {
    "id": "uGOL2YPVaO7f"
   },
   "source": [
    "Далее наиболее удачная температура для генерации - при ней модель соскакивает с одного зацикливания на другое:"
   ]
  },
  {
   "cell_type": "code",
   "execution_count": 36,
   "metadata": {
    "colab": {
     "base_uri": "https://localhost:8080/"
    },
    "id": "jIqzFtpnZme4",
    "outputId": "b33afaa9-4adc-4b2d-b2b9-4291d59e7fa5"
   },
   "outputs": [
    {
     "name": "stdout",
     "output_type": "stream",
     "text": [
      "Что то там такое написано9oE61C}oQ\"pCCpCЖщ?0}C}WhqLЬЯEq}pD}o3}}7}z:tЖХо}EщъR0q}Б43Цl}5}CХFХ}iL}3ю122Оn8C7B3}ФЭm3v}Ьq1щЬ7oэ}PLNP}80OC;IЮщDФ'l1aНqХ}}tpъLvC33PРWНW3qE0zЦIWp}}CLQE599?C!RLYAщXХnYQE7{}4pMЖATE}2LC8ЮBTEЬD}z'b1rlPwsERCf3R}Ь(03C8ФSЮ}Ю}15Wфю0yWБЭgE2}qpwЭoqEk1w6a0qWЖo}g}Vnp}ХTHh}ЬШW1ЮYl6Ж10HpWК}yъEuPш}3П}юЦэ}щT8WDd}6uGQoъFogCCp}RpPp}R5CP3}AT}D4H0ЧFpWai3kLWКI}1o}w6WбЮ57,}WЭ}q}YYПnnn33ЛuWъC;3XzI}ъФ385QIvIW}CЬН,3LЛъиY6B}kzEw3vВ}9Ae11n{}E2QpХp9Hp}iУиR}pLVЦ}Ь}0Eq18ЗьЮ}yTm33CПьww!щ4p6eEPrpz2q0ЮT6?sL3GЬmCAT}}}Юpьq11zFoЬ}8\n"
     ]
    }
   ],
   "source": [
    "text_ = generate_text(model, start_string=u\"Что то там такое написано\", temperature=1.1)\n",
    "print(text_)"
   ]
  },
  {
   "cell_type": "code",
   "execution_count": 37,
   "metadata": {
    "colab": {
     "base_uri": "https://localhost:8080/"
    },
    "id": "QySGv4r5Rxu7",
    "outputId": "40fc37b1-78f4-48ce-eead-0020396e607b"
   },
   "outputs": [
    {
     "name": "stdout",
     "output_type": "stream",
     "text": [
      "Что то там такое написано}}}}}}}}}}}}}}}}}}}}}}}}}}}}}}}}}}}}}}}}}}}}}}}}}}}}}}}}}}}}}}}}}}}p}}}}}}}}}}}}}}}}}}p}}}}}}}}}}}}}}}}}}}}}}}}}}}}}}p}}}}}}}}}}}}}}}}}}}}}}p}p}}}}}}}}}}}}}}}}}}}}}}}}}Ь}}}p}}p}}}}}}}p}}}}}}}}p}p}}p}}}}}}p}}}}}}}p}ppp}pp}}}}}}pp}}}p}}}}pp}}}}}ppppp}}p}}}}}}}}}}}}}}}}}}}}}}p}}}}}}}}}}}}}p}}}}}}}}}}}}}}}}}}}}}}}}}}p}}}pp}}}}}}}}}}}}}p}}}}}}}p}p}}}}}}}}}}}}}}}}}}}}}}}}}}}}}}}}}}}}}}}}}}}}}}}}}}}}}}}}}}}}}}}}}}}}}}}}}}}}}}}}}}}}}}}}}}}}}}}}}}}}}}}}}}}}}}}}}}p}}}}}p}}}}}}}}}}}}}}}}}}}}}}}}}p}p}}}p}}}\n"
     ]
    }
   ],
   "source": [
    "text_ = generate_text(model, start_string=u\"Что то там такое написано\", temperature=.1)\n",
    "print(text_)"
   ]
  },
  {
   "cell_type": "code",
   "execution_count": 33,
   "metadata": {
    "colab": {
     "base_uri": "https://localhost:8080/"
    },
    "id": "0x5mU0Ejbprn",
    "outputId": "4b669770-2843-4aa5-c518-bb9351bb73e0"
   },
   "outputs": [
    {
     "name": "stdout",
     "output_type": "stream",
     "text": [
      "Прекрасны горы под луной }}}}}}}}}}}}}}}}}}}}}}}}}}}}}}}}}}}}}}}}}}}}}}}}}}}}}}}}}}}}}}}}}}}}}}}}}}}}}}}}}}}}}}}}}}}}}}}}}}}}}}}}}}}}}}}}}}}}}}}}}}}}}}}}}}}}}}}}}}}}}}}}}}}}}}}}}}}}}}}}}}}}}}}}}}}}}}}}}}}}}}}}}}}}}}}}}}}}}}}}}}}}}}}}}}}}}}}}}}}}}}}}}}}}}}}}}}}}}}}}}}}}}}}}}}}}}}}}}}}}}}}}}}}}}}}}}}}}}}}}}}}}}}}}}}}}}}}}}}}}}}}}}}}}}}}}}}}}}}}}}}}}}}}}}}}}}}}}}}}}}}}}}}}}}}}}}}}}}}}}}}}}}}}}}}}}}}}}}}}}}}}}}}}}}}}}}}}}}}}}}}}}}}}}}}}}}}}}}}}}}}}}}}}}}}}}}}}}}}}}}}}}}}}}}}}}}}}}}}}}}}}}}}}}}}}}}}}}}}}}}}}}}}}}}}}}}}}}}}}}\n"
     ]
    }
   ],
   "source": [
    "text_ = generate_text(model, start_string=u\"Что то там такое написано\", temperature=.01)\n",
    "print(text_)"
   ]
  },
  {
   "cell_type": "code",
   "execution_count": 38,
   "metadata": {
    "colab": {
     "base_uri": "https://localhost:8080/"
    },
    "id": "h-k54wz5RFnZ",
    "outputId": "dd48fca2-4872-40b2-f016-99eb39118359"
   },
   "outputs": [
    {
     "data": {
      "text/plain": [
       "525"
      ]
     },
     "execution_count": 38,
     "metadata": {},
     "output_type": "execute_result"
    }
   ],
   "source": [
    "len(text_)"
   ]
  },
  {
   "cell_type": "code",
   "execution_count": null,
   "metadata": {},
   "outputs": [],
   "source": [
    "# Модель требует большого количестов эпох для генерации удобочитаемых текстов."
   ]
  }
 ],
 "metadata": {
  "accelerator": "GPU",
  "colab": {
   "collapsed_sections": [],
   "provenance": []
  },
  "gpuClass": "standard",
  "kernelspec": {
   "display_name": "Python 3 (ipykernel)",
   "language": "python",
   "name": "python3"
  },
  "language_info": {
   "codemirror_mode": {
    "name": "ipython",
    "version": 3
   },
   "file_extension": ".py",
   "mimetype": "text/x-python",
   "name": "python",
   "nbconvert_exporter": "python",
   "pygments_lexer": "ipython3",
   "version": "3.11.4"
  }
 },
 "nbformat": 4,
 "nbformat_minor": 1
}
