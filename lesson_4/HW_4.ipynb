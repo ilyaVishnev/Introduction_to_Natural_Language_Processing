{
  "cells": [
    {
      "cell_type": "code",
      "execution_count": 1,
      "metadata": {
        "id": "J5YiZNCPLVPe"
      },
      "outputs": [],
      "source": [
        "import pandas as pd\n",
        "import numpy as np\n",
        "from sklearn.metrics import *\n",
        "from sklearn.model_selection import train_test_split\n",
        "from sklearn.pipeline import Pipeline\n",
        "import nltk"
      ]
    },
    {
      "cell_type": "code",
      "execution_count": 2,
      "metadata": {
        "colab": {
          "base_uri": "https://localhost:8080/",
          "height": 250
        },
        "id": "1PUjLn7GRCIZ",
        "outputId": "14fb8cf7-9e3f-4c85-c872-2496deac59e1"
      },
      "outputs": [
        {
          "data": {
            "text/html": [
              "<div>\n",
              "<style scoped>\n",
              "    .dataframe tbody tr th:only-of-type {\n",
              "        vertical-align: middle;\n",
              "    }\n",
              "\n",
              "    .dataframe tbody tr th {\n",
              "        vertical-align: top;\n",
              "    }\n",
              "\n",
              "    .dataframe thead th {\n",
              "        text-align: right;\n",
              "    }\n",
              "</style>\n",
              "<table border=\"1\" class=\"dataframe\">\n",
              "  <thead>\n",
              "    <tr style=\"text-align: right;\">\n",
              "      <th></th>\n",
              "      <th>0</th>\n",
              "      <th>1</th>\n",
              "      <th>2</th>\n",
              "      <th>text</th>\n",
              "      <th>4</th>\n",
              "      <th>5</th>\n",
              "      <th>6</th>\n",
              "      <th>7</th>\n",
              "      <th>8</th>\n",
              "      <th>9</th>\n",
              "      <th>10</th>\n",
              "      <th>11</th>\n",
              "    </tr>\n",
              "  </thead>\n",
              "  <tbody>\n",
              "    <tr>\n",
              "      <th>0</th>\n",
              "      <td>408906692374446080</td>\n",
              "      <td>1386325927</td>\n",
              "      <td>pleease_shut_up</td>\n",
              "      <td>@first_timee хоть я и школота, но поверь, у на...</td>\n",
              "      <td>1</td>\n",
              "      <td>0</td>\n",
              "      <td>0</td>\n",
              "      <td>0</td>\n",
              "      <td>7569</td>\n",
              "      <td>62</td>\n",
              "      <td>61</td>\n",
              "      <td>0</td>\n",
              "    </tr>\n",
              "    <tr>\n",
              "      <th>1</th>\n",
              "      <td>408906692693221377</td>\n",
              "      <td>1386325927</td>\n",
              "      <td>alinakirpicheva</td>\n",
              "      <td>Да, все-таки он немного похож на него. Но мой ...</td>\n",
              "      <td>1</td>\n",
              "      <td>0</td>\n",
              "      <td>0</td>\n",
              "      <td>0</td>\n",
              "      <td>11825</td>\n",
              "      <td>59</td>\n",
              "      <td>31</td>\n",
              "      <td>2</td>\n",
              "    </tr>\n",
              "    <tr>\n",
              "      <th>2</th>\n",
              "      <td>408906695083954177</td>\n",
              "      <td>1386325927</td>\n",
              "      <td>EvgeshaRe</td>\n",
              "      <td>RT @KatiaCheh: Ну ты идиотка) я испугалась за ...</td>\n",
              "      <td>1</td>\n",
              "      <td>0</td>\n",
              "      <td>1</td>\n",
              "      <td>0</td>\n",
              "      <td>1273</td>\n",
              "      <td>26</td>\n",
              "      <td>27</td>\n",
              "      <td>0</td>\n",
              "    </tr>\n",
              "    <tr>\n",
              "      <th>3</th>\n",
              "      <td>408906695356973056</td>\n",
              "      <td>1386325927</td>\n",
              "      <td>ikonnikova_21</td>\n",
              "      <td>RT @digger2912: \"Кто то в углу сидит и погибае...</td>\n",
              "      <td>1</td>\n",
              "      <td>0</td>\n",
              "      <td>1</td>\n",
              "      <td>0</td>\n",
              "      <td>1549</td>\n",
              "      <td>19</td>\n",
              "      <td>17</td>\n",
              "      <td>0</td>\n",
              "    </tr>\n",
              "    <tr>\n",
              "      <th>4</th>\n",
              "      <td>408906761416867842</td>\n",
              "      <td>1386325943</td>\n",
              "      <td>JumpyAlex</td>\n",
              "      <td>@irina_dyshkant Вот что значит страшилка :D\\nН...</td>\n",
              "      <td>1</td>\n",
              "      <td>0</td>\n",
              "      <td>0</td>\n",
              "      <td>0</td>\n",
              "      <td>597</td>\n",
              "      <td>16</td>\n",
              "      <td>23</td>\n",
              "      <td>1</td>\n",
              "    </tr>\n",
              "  </tbody>\n",
              "</table>\n",
              "</div>"
            ],
            "text/plain": [
              "                    0           1                2  \\\n",
              "0  408906692374446080  1386325927  pleease_shut_up   \n",
              "1  408906692693221377  1386325927  alinakirpicheva   \n",
              "2  408906695083954177  1386325927        EvgeshaRe   \n",
              "3  408906695356973056  1386325927    ikonnikova_21   \n",
              "4  408906761416867842  1386325943        JumpyAlex   \n",
              "\n",
              "                                                text  4  5  6  7      8   9  \\\n",
              "0  @first_timee хоть я и школота, но поверь, у на...  1  0  0  0   7569  62   \n",
              "1  Да, все-таки он немного похож на него. Но мой ...  1  0  0  0  11825  59   \n",
              "2  RT @KatiaCheh: Ну ты идиотка) я испугалась за ...  1  0  1  0   1273  26   \n",
              "3  RT @digger2912: \"Кто то в углу сидит и погибае...  1  0  1  0   1549  19   \n",
              "4  @irina_dyshkant Вот что значит страшилка :D\\nН...  1  0  0  0    597  16   \n",
              "\n",
              "   10  11  \n",
              "0  61   0  \n",
              "1  31   2  \n",
              "2  27   0  \n",
              "3  17   0  \n",
              "4  23   1  "
            ]
          },
          "execution_count": 2,
          "metadata": {},
          "output_type": "execute_result"
        }
      ],
      "source": [
        "positive = pd.read_csv('positive.csv', sep=';', encoding='utf8', header=None)\n",
        "positive = positive.rename(columns={3:'text'})\n",
        "positive.head()"
      ]
    },
    {
      "cell_type": "code",
      "execution_count": 3,
      "metadata": {
        "colab": {
          "base_uri": "https://localhost:8080/",
          "height": 250
        },
        "id": "ZoY5avCURIDt",
        "outputId": "3cb8e65d-076e-4715-bd2d-5eee35824db5"
      },
      "outputs": [
        {
          "data": {
            "text/html": [
              "<div>\n",
              "<style scoped>\n",
              "    .dataframe tbody tr th:only-of-type {\n",
              "        vertical-align: middle;\n",
              "    }\n",
              "\n",
              "    .dataframe tbody tr th {\n",
              "        vertical-align: top;\n",
              "    }\n",
              "\n",
              "    .dataframe thead th {\n",
              "        text-align: right;\n",
              "    }\n",
              "</style>\n",
              "<table border=\"1\" class=\"dataframe\">\n",
              "  <thead>\n",
              "    <tr style=\"text-align: right;\">\n",
              "      <th></th>\n",
              "      <th>0</th>\n",
              "      <th>1</th>\n",
              "      <th>2</th>\n",
              "      <th>text</th>\n",
              "      <th>4</th>\n",
              "      <th>5</th>\n",
              "      <th>6</th>\n",
              "      <th>7</th>\n",
              "      <th>8</th>\n",
              "      <th>9</th>\n",
              "      <th>10</th>\n",
              "      <th>11</th>\n",
              "    </tr>\n",
              "  </thead>\n",
              "  <tbody>\n",
              "    <tr>\n",
              "      <th>0</th>\n",
              "      <td>408906762813579264</td>\n",
              "      <td>1386325944</td>\n",
              "      <td>dugarchikbellko</td>\n",
              "      <td>на работе был полный пиддес :| и так каждое за...</td>\n",
              "      <td>-1</td>\n",
              "      <td>0</td>\n",
              "      <td>0</td>\n",
              "      <td>0</td>\n",
              "      <td>8064</td>\n",
              "      <td>111</td>\n",
              "      <td>94</td>\n",
              "      <td>2</td>\n",
              "    </tr>\n",
              "    <tr>\n",
              "      <th>1</th>\n",
              "      <td>408906818262687744</td>\n",
              "      <td>1386325957</td>\n",
              "      <td>nugemycejela</td>\n",
              "      <td>Коллеги сидят рубятся в Urban terror, а я из-з...</td>\n",
              "      <td>-1</td>\n",
              "      <td>0</td>\n",
              "      <td>0</td>\n",
              "      <td>0</td>\n",
              "      <td>26</td>\n",
              "      <td>42</td>\n",
              "      <td>39</td>\n",
              "      <td>0</td>\n",
              "    </tr>\n",
              "    <tr>\n",
              "      <th>2</th>\n",
              "      <td>408906858515398656</td>\n",
              "      <td>1386325966</td>\n",
              "      <td>4post21</td>\n",
              "      <td>@elina_4post как говорят обещаного три года жд...</td>\n",
              "      <td>-1</td>\n",
              "      <td>0</td>\n",
              "      <td>0</td>\n",
              "      <td>0</td>\n",
              "      <td>718</td>\n",
              "      <td>49</td>\n",
              "      <td>249</td>\n",
              "      <td>0</td>\n",
              "    </tr>\n",
              "    <tr>\n",
              "      <th>3</th>\n",
              "      <td>408906914437685248</td>\n",
              "      <td>1386325980</td>\n",
              "      <td>Poliwake</td>\n",
              "      <td>Желаю хорошего полёта и удачной посадки,я буду...</td>\n",
              "      <td>-1</td>\n",
              "      <td>0</td>\n",
              "      <td>0</td>\n",
              "      <td>0</td>\n",
              "      <td>10628</td>\n",
              "      <td>207</td>\n",
              "      <td>200</td>\n",
              "      <td>0</td>\n",
              "    </tr>\n",
              "    <tr>\n",
              "      <th>4</th>\n",
              "      <td>408906914723295232</td>\n",
              "      <td>1386325980</td>\n",
              "      <td>capyvixowe</td>\n",
              "      <td>Обновил за каким-то лешим surf, теперь не рабо...</td>\n",
              "      <td>-1</td>\n",
              "      <td>0</td>\n",
              "      <td>0</td>\n",
              "      <td>0</td>\n",
              "      <td>35</td>\n",
              "      <td>17</td>\n",
              "      <td>34</td>\n",
              "      <td>0</td>\n",
              "    </tr>\n",
              "  </tbody>\n",
              "</table>\n",
              "</div>"
            ],
            "text/plain": [
              "                    0           1                2  \\\n",
              "0  408906762813579264  1386325944  dugarchikbellko   \n",
              "1  408906818262687744  1386325957     nugemycejela   \n",
              "2  408906858515398656  1386325966          4post21   \n",
              "3  408906914437685248  1386325980         Poliwake   \n",
              "4  408906914723295232  1386325980       capyvixowe   \n",
              "\n",
              "                                                text  4  5  6  7      8    9  \\\n",
              "0  на работе был полный пиддес :| и так каждое за... -1  0  0  0   8064  111   \n",
              "1  Коллеги сидят рубятся в Urban terror, а я из-з... -1  0  0  0     26   42   \n",
              "2  @elina_4post как говорят обещаного три года жд... -1  0  0  0    718   49   \n",
              "3  Желаю хорошего полёта и удачной посадки,я буду... -1  0  0  0  10628  207   \n",
              "4  Обновил за каким-то лешим surf, теперь не рабо... -1  0  0  0     35   17   \n",
              "\n",
              "    10  11  \n",
              "0   94   2  \n",
              "1   39   0  \n",
              "2  249   0  \n",
              "3  200   0  \n",
              "4   34   0  "
            ]
          },
          "execution_count": 3,
          "metadata": {},
          "output_type": "execute_result"
        }
      ],
      "source": [
        "negative = pd.read_csv('negative.csv', sep=';', encoding='utf8', header=None)\n",
        "negative = negative.rename(columns={3:'text'})\n",
        "negative.head()"
      ]
    },
    {
      "cell_type": "code",
      "execution_count": 4,
      "metadata": {
        "id": "aAoqHbvZggQC"
      },
      "outputs": [],
      "source": [
        "df = pd.concat([positive, negative], ignore_index=True)"
      ]
    },
    {
      "cell_type": "code",
      "execution_count": 5,
      "metadata": {
        "colab": {
          "base_uri": "https://localhost:8080/",
          "height": 250
        },
        "id": "j1AEISlBLVP0",
        "outputId": "592320fc-e576-4ab1-913c-db55c41de297"
      },
      "outputs": [
        {
          "data": {
            "text/html": [
              "<div>\n",
              "<style scoped>\n",
              "    .dataframe tbody tr th:only-of-type {\n",
              "        vertical-align: middle;\n",
              "    }\n",
              "\n",
              "    .dataframe tbody tr th {\n",
              "        vertical-align: top;\n",
              "    }\n",
              "\n",
              "    .dataframe thead th {\n",
              "        text-align: right;\n",
              "    }\n",
              "</style>\n",
              "<table border=\"1\" class=\"dataframe\">\n",
              "  <thead>\n",
              "    <tr style=\"text-align: right;\">\n",
              "      <th></th>\n",
              "      <th>0</th>\n",
              "      <th>1</th>\n",
              "      <th>2</th>\n",
              "      <th>text</th>\n",
              "      <th>4</th>\n",
              "      <th>5</th>\n",
              "      <th>6</th>\n",
              "      <th>7</th>\n",
              "      <th>8</th>\n",
              "      <th>9</th>\n",
              "      <th>10</th>\n",
              "      <th>11</th>\n",
              "    </tr>\n",
              "  </thead>\n",
              "  <tbody>\n",
              "    <tr>\n",
              "      <th>226829</th>\n",
              "      <td>425138243257253888</td>\n",
              "      <td>1390195830</td>\n",
              "      <td>Yanch_96</td>\n",
              "      <td>Но не каждый хочет что то исправлять:( http://...</td>\n",
              "      <td>-1</td>\n",
              "      <td>0</td>\n",
              "      <td>0</td>\n",
              "      <td>0</td>\n",
              "      <td>1138</td>\n",
              "      <td>32</td>\n",
              "      <td>46</td>\n",
              "      <td>0</td>\n",
              "    </tr>\n",
              "    <tr>\n",
              "      <th>226830</th>\n",
              "      <td>425138339503943682</td>\n",
              "      <td>1390195853</td>\n",
              "      <td>tkit_on</td>\n",
              "      <td>скучаю так :-( только @taaannyaaa вправляет мо...</td>\n",
              "      <td>-1</td>\n",
              "      <td>0</td>\n",
              "      <td>0</td>\n",
              "      <td>0</td>\n",
              "      <td>4822</td>\n",
              "      <td>38</td>\n",
              "      <td>32</td>\n",
              "      <td>0</td>\n",
              "    </tr>\n",
              "    <tr>\n",
              "      <th>226831</th>\n",
              "      <td>425138437684215808</td>\n",
              "      <td>1390195876</td>\n",
              "      <td>ckooker1</td>\n",
              "      <td>Вот и в школу, в говно это идти уже надо(</td>\n",
              "      <td>-1</td>\n",
              "      <td>0</td>\n",
              "      <td>0</td>\n",
              "      <td>1</td>\n",
              "      <td>165</td>\n",
              "      <td>13</td>\n",
              "      <td>16</td>\n",
              "      <td>0</td>\n",
              "    </tr>\n",
              "    <tr>\n",
              "      <th>226832</th>\n",
              "      <td>425138490452344832</td>\n",
              "      <td>1390195889</td>\n",
              "      <td>LisaBeroud</td>\n",
              "      <td>RT @_Them__: @LisaBeroud Тауриэль, не грусти :...</td>\n",
              "      <td>-1</td>\n",
              "      <td>0</td>\n",
              "      <td>1</td>\n",
              "      <td>0</td>\n",
              "      <td>2516</td>\n",
              "      <td>187</td>\n",
              "      <td>265</td>\n",
              "      <td>0</td>\n",
              "    </tr>\n",
              "    <tr>\n",
              "      <th>226833</th>\n",
              "      <td>425138595251625984</td>\n",
              "      <td>1390195914</td>\n",
              "      <td>sukapavlov</td>\n",
              "      <td>Такси везет меня на работу. Раздумываю приплат...</td>\n",
              "      <td>-1</td>\n",
              "      <td>0</td>\n",
              "      <td>0</td>\n",
              "      <td>0</td>\n",
              "      <td>7778</td>\n",
              "      <td>146</td>\n",
              "      <td>66</td>\n",
              "      <td>5</td>\n",
              "    </tr>\n",
              "  </tbody>\n",
              "</table>\n",
              "</div>"
            ],
            "text/plain": [
              "                         0           1           2  \\\n",
              "226829  425138243257253888  1390195830    Yanch_96   \n",
              "226830  425138339503943682  1390195853     tkit_on   \n",
              "226831  425138437684215808  1390195876    ckooker1   \n",
              "226832  425138490452344832  1390195889  LisaBeroud   \n",
              "226833  425138595251625984  1390195914  sukapavlov   \n",
              "\n",
              "                                                     text  4  5  6  7     8  \\\n",
              "226829  Но не каждый хочет что то исправлять:( http://... -1  0  0  0  1138   \n",
              "226830  скучаю так :-( только @taaannyaaa вправляет мо... -1  0  0  0  4822   \n",
              "226831          Вот и в школу, в говно это идти уже надо( -1  0  0  1   165   \n",
              "226832  RT @_Them__: @LisaBeroud Тауриэль, не грусти :... -1  0  1  0  2516   \n",
              "226833  Такси везет меня на работу. Раздумываю приплат... -1  0  0  0  7778   \n",
              "\n",
              "          9   10  11  \n",
              "226829   32   46   0  \n",
              "226830   38   32   0  \n",
              "226831   13   16   0  \n",
              "226832  187  265   0  \n",
              "226833  146   66   5  "
            ]
          },
          "execution_count": 5,
          "metadata": {},
          "output_type": "execute_result"
        }
      ],
      "source": [
        "df.tail()"
      ]
    },
    {
      "cell_type": "code",
      "execution_count": 8,
      "metadata": {
        "id": "JVrWuN09f6Mp"
      },
      "outputs": [],
      "source": [
        "import re\n",
        "import numpy as np\n",
        "from nltk.corpus import stopwords\n",
        "from tqdm.notebook import tqdm\n",
        "from multiprocessing import Pool\n",
        "from pymystem3 import Mystem"
      ]
    },
    {
      "cell_type": "code",
      "execution_count": 9,
      "metadata": {
        "colab": {
          "base_uri": "https://localhost:8080/"
        },
        "id": "KabTrpuCJIPw",
        "outputId": "e6dcf320-d3a9-406f-eba3-1c1c5067a3cc"
      },
      "outputs": [
        {
          "name": "stderr",
          "output_type": "stream",
          "text": [
            "[nltk_data] Downloading package stopwords to\n",
            "[nltk_data]     C:\\Users\\Пользователь\\AppData\\Roaming\\nltk_data...\n",
            "[nltk_data]   Package stopwords is already up-to-date!\n"
          ]
        },
        {
          "data": {
            "text/plain": [
              "True"
            ]
          },
          "execution_count": 9,
          "metadata": {},
          "output_type": "execute_result"
        }
      ],
      "source": [
        "import nltk\n",
        "nltk.download('stopwords')"
      ]
    },
    {
      "cell_type": "code",
      "execution_count": 11,
      "metadata": {
        "id": "XDBV03ENKhgu"
      },
      "outputs": [],
      "source": [
        "import pymorphy3\n",
        "morph = pymorphy3.MorphAnalyzer()"
      ]
    },
    {
      "cell_type": "code",
      "execution_count": 12,
      "metadata": {
        "id": "V3a8Btmff6Mp"
      },
      "outputs": [],
      "source": [
        "words_regex = re.compile('\\w+')\n",
        "\n",
        "def find_words(text, regex = words_regex):\n",
        "    tokens =  regex.findall(text.lower())\n",
        "    return [w for w in tokens if w.isalpha() and len(w) >= 3]\n",
        "\n",
        "\n",
        "stopwords_list = stopwords.words('russian')\n",
        "\n",
        "def lemmatize(words, lemmer = morph, stopwords = stopwords_list):\n",
        "    lemmas = [lemmer.parse(w)[0].normal_form for w in words]\n",
        "    return [w for w in lemmas if not w in stopwords\n",
        "            and w.isalpha()]\n",
        "\n",
        "def preprocess(text):\n",
        "    return (lemmatize(find_words(text)))"
      ]
    },
    {
      "cell_type": "code",
      "execution_count": 13,
      "metadata": {
        "colab": {
          "base_uri": "https://localhost:8080/",
          "height": 35
        },
        "id": "zkxfy_uXf6Mp",
        "outputId": "caa0ac35-7bd2-422c-abce-4c367a14524f"
      },
      "outputs": [
        {
          "data": {
            "text/plain": [
              "'Да, все-таки он немного похож на него. Но мой мальчик все равно лучше:D'"
            ]
          },
          "execution_count": 13,
          "metadata": {},
          "output_type": "execute_result"
        }
      ],
      "source": [
        "df.text.iloc[1]"
      ]
    },
    {
      "cell_type": "code",
      "execution_count": 14,
      "metadata": {
        "colab": {
          "base_uri": "https://localhost:8080/"
        },
        "id": "TLz9uO5Yf6Mp",
        "outputId": "656c6ef4-672e-47cd-ad8a-3ef7cf5969a3",
        "scrolled": true
      },
      "outputs": [
        {
          "name": "stdout",
          "output_type": "stream",
          "text": [
            "['всё', 'таки', 'немного', 'похожий', 'мальчик', 'всё', 'равно', 'хороший']\n"
          ]
        }
      ],
      "source": [
        "print(preprocess(df.text.iloc[1]))"
      ]
    },
    {
      "cell_type": "code",
      "execution_count": 15,
      "metadata": {
        "id": "Cp9UP1pCf6Mp"
      },
      "outputs": [],
      "source": [
        "data = df.sample(100000)"
      ]
    },
    {
      "cell_type": "code",
      "execution_count": 17,
      "metadata": {
        "colab": {
          "base_uri": "https://localhost:8080/"
        },
        "id": "3krvmIzgN_Vn",
        "outputId": "592e3515-b20d-4a77-decd-5a8199bb7d98"
      },
      "outputs": [
        {
          "name": "stdout",
          "output_type": "stream",
          "text": [
            "INFO: Pandarallel will run on 2 workers.\n",
            "INFO: Pandarallel will use standard multiprocessing data transfer (pipe) to transfer data between the main process and workers.\n",
            "\n",
            "WARNING: You are on Windows. If you detect any issue with pandarallel, be sure you checked out the Troubleshooting page:\n",
            "https://nalepae.github.io/pandarallel/troubleshooting/\n"
          ]
        }
      ],
      "source": [
        "# Пример параллелизации обработки текста ()\n",
        "tqdm.pandas()\n",
        "\n",
        "from pandarallel import pandarallel\n",
        "pandarallel.initialize(progress_bar=True)"
      ]
    },
    {
      "cell_type": "code",
      "execution_count": 18,
      "metadata": {
        "colab": {
          "base_uri": "https://localhost:8080/",
          "height": 104,
          "referenced_widgets": [
            "f104ab1d24c3453a93420073cd940e95",
            "69d090dfcfda4d58a38369e5eb864563",
            "225a4c6be39944deb3f295b0cb9a6297",
            "e81c002eb7a243b8837908c1b72a4cb9",
            "436954001c3540ea80d77c296b15d330",
            "d813b16ff6e54ac28d41764e3f9735ff",
            "46e6b8478ac0486b9e1c84b6b158887f",
            "bf5c6cf80b8e4b3ba98ca577ae65afd9",
            "bd4882b58e7646a1a5bbf7ff392625f7",
            "0548d44f4dac4db2810053314b04e160",
            "1a4ceabe0ebe41ffbc9dd00a51ca7b1c"
          ]
        },
        "id": "_s8P7gLQODD9",
        "outputId": "e227a0ad-f12e-4b03-c5dc-301fcf61571c"
      },
      "outputs": [
        {
          "data": {
            "application/vnd.jupyter.widget-view+json": {
              "model_id": "c7ecaaaa753849b79281c549ee06233c",
              "version_major": 2,
              "version_minor": 0
            },
            "text/plain": [
              "  0%|          | 0/100000 [00:00<?, ?it/s]"
            ]
          },
          "metadata": {},
          "output_type": "display_data"
        }
      ],
      "source": [
        "preprocessed_text2 = data['text'].progress_apply(lambda x: preprocess(str(x)))"
      ]
    },
    {
      "cell_type": "code",
      "execution_count": 19,
      "metadata": {
        "colab": {
          "base_uri": "https://localhost:8080/",
          "height": 49,
          "referenced_widgets": [
            "4ac1417a847946fca8b82c4b3ebb36bd",
            "17856cba6e4640a2a202837b71cde9ac",
            "af016c354f1c4725a46fbf2167b6e6be",
            "4d065c143e1f48be8af11c949c1a0bc0",
            "f197a8e837bb4fdfaf6ac881ae65a793",
            "e6dd3e004ac249739e076eff15319e8f",
            "c7b647704ecb4606a1fa5fd4266e002b",
            "46f395c55bd947c78da06bcb3d7b88b7",
            "719a576c22c24a16a5c6340a9939ba06",
            "f3bc51271f514487b2d58240b77adbdc",
            "ab85cadc98ab4d0ebee602069ece75e8"
          ]
        },
        "id": "S8PnTSmRf6Mp",
        "outputId": "085896c9-1def-4204-f4ce-5f057fdccba1"
      },
      "outputs": [
        {
          "data": {
            "application/vnd.jupyter.widget-view+json": {
              "model_id": "55090b6b06ed42d1ac28ba5348b0c3e3",
              "version_major": 2,
              "version_minor": 0
            },
            "text/plain": [
              "  0%|          | 0/100000 [00:00<?, ?it/s]"
            ]
          },
          "metadata": {},
          "output_type": "display_data"
        }
      ],
      "source": [
        "preprocessed_text = list(tqdm(map(preprocess, data['text']), total=len(data)))"
      ]
    },
    {
      "cell_type": "code",
      "execution_count": 20,
      "metadata": {
        "colab": {
          "base_uri": "https://localhost:8080/",
          "height": 187
        },
        "id": "DriM5_5_f6Mq",
        "outputId": "7573c150-7e82-4ecc-d984-be6c5ed55e17"
      },
      "outputs": [
        {
          "data": {
            "text/html": [
              "<div>\n",
              "<style scoped>\n",
              "    .dataframe tbody tr th:only-of-type {\n",
              "        vertical-align: middle;\n",
              "    }\n",
              "\n",
              "    .dataframe tbody tr th {\n",
              "        vertical-align: top;\n",
              "    }\n",
              "\n",
              "    .dataframe thead th {\n",
              "        text-align: right;\n",
              "    }\n",
              "</style>\n",
              "<table border=\"1\" class=\"dataframe\">\n",
              "  <thead>\n",
              "    <tr style=\"text-align: right;\">\n",
              "      <th></th>\n",
              "      <th>0</th>\n",
              "      <th>1</th>\n",
              "      <th>2</th>\n",
              "      <th>text</th>\n",
              "      <th>4</th>\n",
              "      <th>5</th>\n",
              "      <th>6</th>\n",
              "      <th>7</th>\n",
              "      <th>8</th>\n",
              "      <th>9</th>\n",
              "      <th>10</th>\n",
              "      <th>11</th>\n",
              "    </tr>\n",
              "  </thead>\n",
              "  <tbody>\n",
              "    <tr>\n",
              "      <th>219323</th>\n",
              "      <td>424038276543303681</td>\n",
              "      <td>1389933578</td>\n",
              "      <td>MatveevaNastena</td>\n",
              "      <td>[бояться, оно, обязательно, случаться, правда]</td>\n",
              "      <td>-1</td>\n",
              "      <td>0</td>\n",
              "      <td>0</td>\n",
              "      <td>0</td>\n",
              "      <td>947</td>\n",
              "      <td>29</td>\n",
              "      <td>43</td>\n",
              "      <td>0</td>\n",
              "    </tr>\n",
              "    <tr>\n",
              "      <th>55883</th>\n",
              "      <td>410086191195639809</td>\n",
              "      <td>1386607141</td>\n",
              "      <td>snataliyaa</td>\n",
              "      <td>[обед, компания, старое, друг, отличный, настр...</td>\n",
              "      <td>1</td>\n",
              "      <td>0</td>\n",
              "      <td>0</td>\n",
              "      <td>0</td>\n",
              "      <td>349</td>\n",
              "      <td>6</td>\n",
              "      <td>19</td>\n",
              "      <td>0</td>\n",
              "    </tr>\n",
              "    <tr>\n",
              "      <th>18963</th>\n",
              "      <td>409385537217495040</td>\n",
              "      <td>1386440092</td>\n",
              "      <td>losewa_katya</td>\n",
              "      <td>[nmulon, кстати, катюша, праздник]</td>\n",
              "      <td>1</td>\n",
              "      <td>0</td>\n",
              "      <td>1</td>\n",
              "      <td>0</td>\n",
              "      <td>17550</td>\n",
              "      <td>109</td>\n",
              "      <td>42</td>\n",
              "      <td>2</td>\n",
              "    </tr>\n",
              "  </tbody>\n",
              "</table>\n",
              "</div>"
            ],
            "text/plain": [
              "                         0           1                2  \\\n",
              "219323  424038276543303681  1389933578  MatveevaNastena   \n",
              "55883   410086191195639809  1386607141       snataliyaa   \n",
              "18963   409385537217495040  1386440092     losewa_katya   \n",
              "\n",
              "                                                     text  4  5  6  7      8  \\\n",
              "219323     [бояться, оно, обязательно, случаться, правда] -1  0  0  0    947   \n",
              "55883   [обед, компания, старое, друг, отличный, настр...  1  0  0  0    349   \n",
              "18963                  [nmulon, кстати, катюша, праздник]  1  0  1  0  17550   \n",
              "\n",
              "          9  10  11  \n",
              "219323   29  43   0  \n",
              "55883     6  19   0  \n",
              "18963   109  42   2  "
            ]
          },
          "execution_count": 20,
          "metadata": {},
          "output_type": "execute_result"
        }
      ],
      "source": [
        "data['text'] = preprocessed_text\n",
        "data.sample(3)"
      ]
    },
    {
      "cell_type": "code",
      "execution_count": 22,
      "metadata": {
        "id": "jITId1Axf6Mq"
      },
      "outputs": [],
      "source": [
        "from gensim.models import *\n",
        "from gensim import corpora"
      ]
    },
    {
      "cell_type": "code",
      "execution_count": 23,
      "metadata": {
        "id": "l9-iZNVuf6Mq"
      },
      "outputs": [],
      "source": [
        "dictionary = corpora.Dictionary(data['text'])\n",
        "\n",
        "dictionary.filter_extremes(no_below = 10, no_above = 0.9, keep_n=None) # игнорируем слова, которые встречаются реже 10 раз или составляют более 0.9 словаря\n",
        "dictionary.save('tweets.dict')"
      ]
    },
    {
      "cell_type": "code",
      "execution_count": 24,
      "metadata": {
        "id": "Sn17WY1vf6Mq"
      },
      "outputs": [],
      "source": [
        "corpus = [dictionary.doc2bow(text) for text in data['text']]\n",
        "corpora.MmCorpus.serialize('tweets.model', corpus)"
      ]
    },
    {
      "cell_type": "code",
      "execution_count": 25,
      "metadata": {
        "colab": {
          "base_uri": "https://localhost:8080/"
        },
        "id": "oOzLXIDQf6Mq",
        "outputId": "2f864d17-6b97-4252-fece-1305f5d5a094"
      },
      "outputs": [
        {
          "name": "stdout",
          "output_type": "stream",
          "text": [
            "CPU times: total: 2min 5s\n",
            "Wall time: 2min 57s\n"
          ]
        }
      ],
      "source": [
        "%time lda = ldamodel.LdaModel(corpus, id2word=dictionary, num_topics=10, chunksize=50, update_every=1, passes=2)"
      ]
    },
    {
      "cell_type": "code",
      "execution_count": 26,
      "metadata": {
        "colab": {
          "base_uri": "https://localhost:8080/"
        },
        "id": "EqQzwFm2c1_B",
        "outputId": "ac917ce0-ac18-472a-9a97-21efc433b482"
      },
      "outputs": [
        {
          "data": {
            "text/plain": [
              "[(0,\n",
              "  '0.087*\"очень\" + 0.048*\"сказать\" + 0.045*\"спать\" + 0.044*\"идти\" + 0.021*\"читать\" + 0.021*\"купить\" + 0.019*\"снова\" + 0.018*\"домой\" + 0.017*\"сон\" + 0.016*\"песня\"'),\n",
              " (1,\n",
              "  '0.106*\"хотеть\" + 0.062*\"год\" + 0.050*\"завтра\" + 0.037*\"смотреть\" + 0.030*\"писать\" + 0.023*\"сделать\" + 0.023*\"хотеться\" + 0.022*\"ночь\" + 0.020*\"забыть\" + 0.019*\"голова\"'),\n",
              " (2,\n",
              "  '0.270*\"http\" + 0.024*\"наш\" + 0.016*\"дело\" + 0.016*\"урок\" + 0.015*\"работать\" + 0.012*\"ахи\" + 0.011*\"ахах\" + 0.010*\"папа\" + 0.010*\"должный\" + 0.010*\"история\"'),\n",
              " (3,\n",
              "  '0.149*\"всё\" + 0.084*\"ещё\" + 0.038*\"вообще\" + 0.027*\"говорить\" + 0.022*\"болеть\" + 0.018*\"видеть\" + 0.014*\"понять\" + 0.011*\"парень\" + 0.011*\"жить\" + 0.010*\"выйти\"'),\n",
              " (4,\n",
              "  '0.189*\"это\" + 0.085*\"весь\" + 0.038*\"любить\" + 0.026*\"самый\" + 0.024*\"блин\" + 0.019*\"нибыть\" + 0.018*\"каждый\" + 0.016*\"плохо\" + 0.015*\"понимать\" + 0.010*\"правда\"'),\n",
              " (5,\n",
              "  '0.054*\"хороший\" + 0.043*\"свой\" + 0.033*\"почему\" + 0.031*\"время\" + 0.028*\"большой\" + 0.023*\"давать\" + 0.021*\"пока\" + 0.020*\"никто\" + 0.019*\"школа\" + 0.014*\"скоро\"'),\n",
              " (6,\n",
              "  '0.074*\"сегодня\" + 0.031*\"друг\" + 0.026*\"утро\" + 0.026*\"дом\" + 0.026*\"сидеть\" + 0.025*\"любимый\" + 0.021*\"ждать\" + 0.020*\"час\" + 0.019*\"телефон\" + 0.016*\"круто\"'),\n",
              " (7,\n",
              "  '0.071*\"знать\" + 0.047*\"который\" + 0.044*\"делать\" + 0.032*\"жизнь\" + 0.029*\"посмотреть\" + 0.021*\"найти\" + 0.020*\"фильм\" + 0.015*\"вчера\" + 0.014*\"понравиться\" + 0.013*\"столько\"'),\n",
              " (8,\n",
              "  '0.102*\"мочь\" + 0.039*\"твой\" + 0.030*\"стать\" + 0.028*\"написать\" + 0.024*\"вечер\" + 0.016*\"решить\" + 0.015*\"взять\" + 0.015*\"приятно\" + 0.015*\"старый\" + 0.014*\"нога\"'),\n",
              " (9,\n",
              "  '0.073*\"день\" + 0.043*\"новый\" + 0.041*\"человек\" + 0.041*\"просто\" + 0.040*\"думать\" + 0.033*\"спасибо\" + 0.025*\"пойти\" + 0.025*\"первый\" + 0.022*\"мама\" + 0.019*\"настроение\"')]"
            ]
          },
          "execution_count": 26,
          "metadata": {},
          "output_type": "execute_result"
        }
      ],
      "source": [
        "lda.show_topics(num_topics=10, num_words=10, formatted=True)"
      ]
    },
    {
      "cell_type": "code",
      "execution_count": 33,
      "metadata": {},
      "outputs": [
        {
          "name": "stdout",
          "output_type": "stream",
          "text": [
            "CPU times: total: 15.7 s\n",
            "Wall time: 32.4 s\n"
          ]
        }
      ],
      "source": [
        "import pyLDAvis\n",
        "import pyLDAvis.gensim as gensimvis\n",
        "\n",
        "%time vis_data = gensimvis.prepare(lda, corpus, dictionary)"
      ]
    },
    {
      "cell_type": "code",
      "execution_count": 34,
      "metadata": {
        "colab": {
          "base_uri": "https://localhost:8080/",
          "height": 916
        },
        "id": "BlW0h05wf6Mq",
        "outputId": "fd7e027f-36b9-48e7-fb0f-d09d84f7b240"
      },
      "outputs": [
        {
          "data": {
            "text/html": [
              "\n",
              "<link rel=\"stylesheet\" type=\"text/css\" href=\"https://cdn.jsdelivr.net/gh/bmabey/pyLDAvis@3.4.0/pyLDAvis/js/ldavis.v1.0.0.css\">\n",
              "\n",
              "\n",
              "<div id=\"ldavis_el1072422149600031363136456504\" style=\"background-color:white;\"></div>\n",
              "<script type=\"text/javascript\">\n",
              "\n",
              "var ldavis_el1072422149600031363136456504_data = {\"mdsDat\": {\"x\": [-0.027203728192445552, -0.1509027099893346, 0.44414346693410656, -0.044119173758857766, -0.04511786423173192, -0.06523208771083627, -0.027210259390795976, -0.029514173342419264, -0.03115049587834792, -0.023692974439337443], \"y\": [0.39375620634162223, -0.2625176220115342, -0.07275295767192318, -0.04365266537699356, -0.007153624294272098, -0.02476734363381425, 0.006350669968931531, 0.0023936488756434752, 0.001796508945897002, 0.0065471788564427195], \"topics\": [1, 2, 3, 4, 5, 6, 7, 8, 9, 10], \"cluster\": [1, 1, 1, 1, 1, 1, 1, 1, 1, 1], \"Freq\": [11.528660993827602, 11.418268599904076, 11.405137679169028, 11.16427618353774, 10.95508379147208, 9.94380195811522, 9.41547869393247, 8.409038100065764, 8.320952515016883, 7.439301484959136]}, \"tinfo\": {\"Term\": [\"http\", \"\\u044d\\u0442\\u043e\", \"\\u0432\\u0441\\u0451\", \"\\u0445\\u043e\\u0442\\u0435\\u0442\\u044c\", \"\\u0432\\u0435\\u0441\\u044c\", \"\\u0435\\u0449\\u0451\", \"\\u043c\\u043e\\u0447\\u044c\", \"\\u0434\\u0435\\u043d\\u044c\", \"\\u043e\\u0447\\u0435\\u043d\\u044c\", \"\\u0441\\u0435\\u0433\\u043e\\u0434\\u043d\\u044f\", \"\\u0437\\u043d\\u0430\\u0442\\u044c\", \"\\u0433\\u043e\\u0434\", \"\\u0445\\u043e\\u0440\\u043e\\u0448\\u0438\\u0439\", \"\\u0437\\u0430\\u0432\\u0442\\u0440\\u0430\", \"\\u043d\\u043e\\u0432\\u044b\\u0439\", \"\\u0441\\u0432\\u043e\\u0439\", \"\\u0447\\u0435\\u043b\\u043e\\u0432\\u0435\\u043a\", \"\\u043f\\u0440\\u043e\\u0441\\u0442\\u043e\", \"\\u0441\\u043a\\u0430\\u0437\\u0430\\u0442\\u044c\", \"\\u043a\\u043e\\u0442\\u043e\\u0440\\u044b\\u0439\", \"\\u0434\\u0443\\u043c\\u0430\\u0442\\u044c\", \"\\u043b\\u044e\\u0431\\u0438\\u0442\\u044c\", \"\\u0432\\u043e\\u043e\\u0431\\u0449\\u0435\", \"\\u0441\\u043f\\u0430\\u0442\\u044c\", \"\\u0438\\u0434\\u0442\\u0438\", \"\\u0434\\u0435\\u043b\\u0430\\u0442\\u044c\", \"\\u0441\\u043c\\u043e\\u0442\\u0440\\u0435\\u0442\\u044c\", \"\\u0441\\u043f\\u0430\\u0441\\u0438\\u0431\\u043e\", \"\\u043f\\u043e\\u0447\\u0435\\u043c\\u0443\", \"\\u0432\\u0440\\u0435\\u043c\\u044f\", \"\\u0432\\u0441\\u0451\", \"\\u0435\\u0449\\u0451\", \"\\u0432\\u043e\\u043e\\u0431\\u0449\\u0435\", \"\\u0433\\u043e\\u0432\\u043e\\u0440\\u0438\\u0442\\u044c\", \"\\u0431\\u043e\\u043b\\u0435\\u0442\\u044c\", \"\\u0432\\u0438\\u0434\\u0435\\u0442\\u044c\", \"\\u043f\\u043e\\u043d\\u044f\\u0442\\u044c\", \"\\u043f\\u0430\\u0440\\u0435\\u043d\\u044c\", \"\\u0436\\u0438\\u0442\\u044c\", \"\\u0432\\u044b\\u0439\\u0442\\u0438\", \"\\u0442\\u0432\\u0438\\u0442\\u0442\\u0435\\u0440\", \"\\u043a\\u0440\\u0443\\u0442\\u043e\\u0439\", \"\\u043d\\u043e\\u0440\\u043c\\u0430\\u043b\\u044c\\u043d\\u043e\", \"\\u0433\\u043b\\u0430\\u0437\", \"\\u0440\\u0430\\u043d\\u043d\\u0438\\u0439\", \"\\u043c\\u0430\\u043b\\u0435\\u043d\\u044c\\u043a\\u0438\\u0439\", \"\\u0442\\u0438\\u043f\", \"\\u043c\\u0443\\u0437\\u044b\\u043a\\u0430\", \"\\u043d\\u0435\\u0442\\u0443\", \"\\u0434\\u0443\\u0448\\u0430\", \"\\u0445\\u043e\\u043b\\u043e\\u0434\\u043d\\u043e\", \"\\u0430\\u0433\\u0430\", \"\\u0440\\u0430\\u0434\\u043e\\u0432\\u0430\\u0442\\u044c\", \"\\u0443\\u0436\\u0430\\u0441\\u043d\\u044b\\u0439\", \"\\u043f\\u043e\\u0445\\u043e\\u0434\", \"\\u0443\\u0434\\u0430\\u0447\\u0430\", \"\\u043e\\u0431\\u0449\\u0430\\u0442\\u044c\\u0441\\u044f\", \"\\u043a\\u0430\\u043f\\u0435\\u0446\", \"\\u043f\\u043e\\u0441\\u0442\\u0430\\u0432\\u0438\\u0442\\u044c\", \"\\u0441\\u0435\\u0441\\u0441\\u0438\\u044f\", \"\\u044d\\u0442\\u043e\", \"\\u0432\\u0435\\u0441\\u044c\", \"\\u043b\\u044e\\u0431\\u0438\\u0442\\u044c\", \"\\u0441\\u0430\\u043c\\u044b\\u0439\", \"\\u0431\\u043b\\u0438\\u043d\", \"\\u043d\\u0438\\u0431\\u044b\\u0442\\u044c\", \"\\u043a\\u0430\\u0436\\u0434\\u044b\\u0439\", \"\\u043f\\u043b\\u043e\\u0445\\u043e\", \"\\u043f\\u043e\\u043d\\u0438\\u043c\\u0430\\u0442\\u044c\", \"\\u043f\\u0440\\u0430\\u0432\\u0434\\u0430\", \"\\u0442\\u0430\\u043a\\u0438\", \"\\u0434\\u0435\\u043d\\u044c\\u0433\\u0430\", \"\\u0444\\u043e\\u0442\\u043a\\u0430\", \"\\u043f\\u0440\\u0438\\u0445\\u043e\\u0434\\u0438\\u0442\\u044c\", \"\\u0445\\u043e\\u0434\\u0438\\u0442\\u044c\", \"\\u0442\\u0432\\u0438\\u0442\", \"\\u0437\\u0430\\u0442\\u043e\", \"\\u0431\\u044b\\u0432\\u0430\\u0442\\u044c\", \"\\u0432\\u0441\\u043f\\u043e\\u043c\\u043d\\u0438\\u0442\\u044c\", \"\\u043f\\u043e\\u0435\\u0445\\u0430\\u0442\\u044c\", \"\\u043b\\u0435\\u043d\\u0442\\u0430\", \"\\u043d\\u0430\\u0432\\u0435\\u0440\\u043d\\u043e\\u0435\", \"\\u0441\\u0435\\u0440\\u0438\\u044f\", \"\\u0443\\u043c\\u0435\\u0440\\u0435\\u0442\\u044c\", \"\\u0432\\u0438\\u0434\\u0438\\u043c\\u043e\", \"\\u0441\\u043a\\u043e\\u0440\\u0435\\u0435\", \"\\u0443\\u0436\\u0430\\u0441\\u043d\\u043e\", \"\\u0441\\u043e\\u0436\\u0430\\u043b\\u0435\\u043d\\u0438\\u0435\", \"\\u0443\\u0447\\u0438\\u0442\\u044c\\u0441\\u044f\", \"\\u0431\\u043e\\u043b\\u044c\\u043d\\u043e\", \"\\u0434\\u0435\\u043d\\u044c\", \"\\u043d\\u043e\\u0432\\u044b\\u0439\", \"\\u0447\\u0435\\u043b\\u043e\\u0432\\u0435\\u043a\", \"\\u043f\\u0440\\u043e\\u0441\\u0442\\u043e\", \"\\u0434\\u0443\\u043c\\u0430\\u0442\\u044c\", \"\\u0441\\u043f\\u0430\\u0441\\u0438\\u0431\\u043e\", \"\\u043f\\u043e\\u0439\\u0442\\u0438\", \"\\u043f\\u0435\\u0440\\u0432\\u044b\\u0439\", \"\\u043c\\u0430\\u043c\\u0430\", \"\\u043d\\u0430\\u0441\\u0442\\u0440\\u043e\\u0435\\u043d\\u0438\\u0435\", \"\\u043d\\u0435\\u0434\\u0435\\u043b\\u044f\", \"\\u0440\\u0430\\u0431\\u043e\\u0442\\u0430\", \"\\u0441\\u043d\\u0435\\u0433\", \"\\u0436\\u0430\\u043b\\u044c\", \"\\u0440\\u0443\\u043a\\u0430\", \"\\u043d\\u0440\\u0430\\u0432\\u0438\\u0442\\u044c\\u0441\\u044f\", \"\\u043f\\u0440\\u0438\\u0439\\u0442\\u0438\", \"\\u0435\\u0434\\u0430\", \"\\u043a\\u0430\\u0437\\u0430\\u0442\\u044c\\u0441\\u044f\", \"\\u043a\\u0440\\u0430\\u0441\\u0438\\u0432\\u044b\\u0439\", \"\\u0440\\u043e\\u0436\\u0434\\u0435\\u043d\\u0438\\u0435\", \"\\u043a\\u0441\\u0442\\u0430\\u0442\\u0438\", \"\\u0441\\u043c\\u043e\\u0447\\u044c\", \"\\u0434\\u0430\\u0432\\u043d\\u043e\", \"\\u0440\\u0430\\u0432\\u043d\\u043e\", \"\\u043f\\u043e\\u043b\\u0443\\u0447\\u0438\\u0442\\u044c\", \"\\u043e\\u0431\\u043e\\u0436\\u0430\\u0442\\u044c\", \"\\u043f\\u043e\\u043b\\u0443\\u0447\\u0438\\u0442\\u044c\\u0441\\u044f\", \"\\u0437\\u0430\\u043a\\u043e\\u043d\\u0447\\u0438\\u0442\\u044c\\u0441\\u044f\", \"\\u0431\\u0440\\u0430\\u0442\", \"\\u0445\\u043e\\u0440\\u043e\\u0448\\u0438\\u0439\", \"\\u0441\\u0432\\u043e\\u0439\", \"\\u043f\\u043e\\u0447\\u0435\\u043c\\u0443\", \"\\u0432\\u0440\\u0435\\u043c\\u044f\", \"\\u0431\\u043e\\u043b\\u044c\\u0448\\u043e\\u0439\", \"\\u0434\\u0430\\u0432\\u0430\\u0442\\u044c\", \"\\u043f\\u043e\\u043a\\u0430\", \"\\u043d\\u0438\\u043a\\u0442\\u043e\", \"\\u0448\\u043a\\u043e\\u043b\\u0430\", \"\\u0441\\u043a\\u043e\\u0440\\u043e\", \"\\u0441\\u0442\\u043e\\u0438\\u0442\\u044c\", \"\\u043f\\u0430\\u0440\\u0430\", \"\\u0443\\u043b\\u0438\\u0446\\u0430\", \"\\u043a\\u043b\\u0430\\u0441\\u0441\", \"\\u0434\\u0430\\u0442\\u044c\", \"\\u0433\\u0443\\u043b\\u044f\\u0442\\u044c\", \"\\u0445\\u043e\\u0442\\u044f\", \"\\u043f\\u0440\\u044f\\u043c\", \"\\u043d\\u0435\\u043d\\u0430\\u0432\\u0438\\u0434\\u0435\\u0442\\u044c\", \"\\u043b\\u044e\\u0431\\u043e\\u0432\\u044c\", \"\\u0434\\u0435\\u0432\\u043e\\u0447\\u043a\\u0430\", \"\\u0432\\u0438\\u0434\\u0435\\u043e\", \"\\u043f\\u0440\\u043e\\u0439\\u0442\\u0438\", \"\\u0441\\u0447\\u0430\\u0441\\u0442\\u0438\\u0435\", \"\\u043f\\u0440\\u043e\\u0441\\u0442\\u0438\\u0442\\u044c\", \"\\u0440\\u0435\\u0430\\u043b\\u044c\\u043d\\u043e\", \"\\u0438\\u043c\\u0435\\u043d\\u043d\\u043e\", \"\\u0443\\u0439\\u0442\\u0438\", \"\\u0443\\u0441\\u043f\\u0435\\u0442\\u044c\", \"\\u0431\\u043b\\u044f\\u0434\\u044c\", \"http\", \"\\u043d\\u0430\\u0448\", \"\\u0434\\u0435\\u043b\\u043e\", \"\\u0443\\u0440\\u043e\\u043a\", \"\\u0440\\u0430\\u0431\\u043e\\u0442\\u0430\\u0442\\u044c\", \"\\u0430\\u0445\\u0438\", \"\\u0430\\u0445\\u0430\\u0445\", \"\\u043f\\u0430\\u043f\\u0430\", \"\\u0434\\u043e\\u043b\\u0436\\u043d\\u044b\\u0439\", \"\\u0438\\u0441\\u0442\\u043e\\u0440\\u0438\\u044f\", \"\\u043f\\u043e\\u043c\\u043d\\u0438\\u0442\\u044c\", \"\\u0443\\u0432\\u0438\\u0434\\u0435\\u0442\\u044c\", \"\\u0440\\u0443\\u0441\\u0441\\u043a\\u0438\\u0439\", \"\\u043c\\u0438\\u0440\", \"\\u044d\\u043a\\u0437\\u0430\\u043c\\u0435\\u043d\", \"\\u043f\\u043e\\u0436\\u0430\\u043b\\u0443\\u0439\\u0441\\u0442\\u0430\", \"\\u0451\\u043b\\u043a\\u0430\", \"\\u043c\\u0435\\u0441\\u0442\\u043e\", \"\\u043f\\u0440\\u0430\\u0437\\u0434\\u043d\\u0438\\u043a\", \"\\u043e\\u0442\\u0432\\u0435\\u0447\\u0430\\u0442\\u044c\", \"\\u0444\\u043e\\u0442\\u043e\", \"\\u043f\\u0440\\u043e\\u0441\\u0438\\u0442\\u044c\", \"\\u043c\\u0438\\u043b\\u044b\\u0439\", \"\\u043a\\u043e\\u0442\", \"\\u0441\\u0443\\u0431\\u0431\\u043e\\u0442\\u0430\", \"\\u0440\\u043e\\u0434\\u043d\\u044b\\u0439\", \"\\u0438\\u043d\\u0442\\u0435\\u0440\\u0435\\u0441\\u043d\\u043e\", \"\\u0433\\u043b\\u0430\\u0432\\u043d\\u043e\\u0435\", \"\\u0434\\u043e\\u0431\\u0440\\u043e\", \"\\u043f\\u0440\\u043e\\u0432\\u0435\\u0441\\u0442\\u0438\", \"\\u0445\\u043e\\u0442\\u0435\\u0442\\u044c\", \"\\u0433\\u043e\\u0434\", \"\\u0437\\u0430\\u0432\\u0442\\u0440\\u0430\", \"\\u0441\\u043c\\u043e\\u0442\\u0440\\u0435\\u0442\\u044c\", \"\\u043f\\u0438\\u0441\\u0430\\u0442\\u044c\", \"\\u0441\\u0434\\u0435\\u043b\\u0430\\u0442\\u044c\", \"\\u0445\\u043e\\u0442\\u0435\\u0442\\u044c\\u0441\\u044f\", \"\\u043d\\u043e\\u0447\\u044c\", \"\\u0437\\u0430\\u0431\\u044b\\u0442\\u044c\", \"\\u0433\\u043e\\u043b\\u043e\\u0432\\u0430\", \"\\u043d\\u0443\\u0436\\u043d\\u043e\", \"\\u043f\\u043e\\u0441\\u043b\\u0435\\u0434\\u043d\\u0438\\u0439\", \"\\u0441\\u043a\\u0443\\u0447\\u0430\\u0442\\u044c\", \"\\u0432\\u044b\\u0445\\u043e\\u0434\\u043d\\u043e\\u0439\", \"\\u0432\\u0442\\u043e\\u0440\\u043e\\u0439\", \"\\u0433\\u043e\\u0440\\u043e\\u0434\", \"\\u043f\\u043b\\u043e\\u0445\\u043e\\u0439\", \"\\u043c\\u043e\\u043c\\u0435\\u043d\\u0442\", \"\\u0431\\u043b\\u044f\", \"\\u0435\\u0445\\u0430\\u0442\\u044c\", \"\\u0440\\u0435\\u0431\\u0451\\u043d\\u043e\\u043a\", \"\\u043d\\u0430\\u0447\\u0430\\u043b\\u043e\", \"\\u0432\\u0435\\u0440\\u0438\\u0442\\u044c\", \"\\u0445\\u0432\\u0430\\u0442\\u0430\\u0442\\u044c\", \"\\u044f\\u043d\\u0432\\u0430\\u0440\\u044c\", \"\\u0441\\u0443\\u043a\\u0430\", \"\\u0438\\u0433\\u0440\\u0430\", \"\\u0441\\u0447\\u0430\\u0441\\u0442\\u043b\\u0438\\u0432\\u044b\\u0439\", \"\\u0431\\u044b\\u0441\\u0442\\u0440\\u043e\", \"\\u043f\\u043b\\u0430\\u043d\", \"\\u0441\\u0435\\u0433\\u043e\\u0434\\u043d\\u044f\", \"\\u0434\\u0440\\u0443\\u0433\", \"\\u0443\\u0442\\u0440\\u043e\", \"\\u0434\\u043e\\u043c\", \"\\u0441\\u0438\\u0434\\u0435\\u0442\\u044c\", \"\\u043b\\u044e\\u0431\\u0438\\u043c\\u044b\\u0439\", \"\\u0436\\u0434\\u0430\\u0442\\u044c\", \"\\u0447\\u0430\\u0441\", \"\\u0442\\u0435\\u043b\\u0435\\u0444\\u043e\\u043d\", \"\\u043a\\u0440\\u0443\\u0442\\u043e\", \"\\u0434\\u043e\\u0431\\u0440\\u044b\\u0439\", \"\\u043f\\u0440\\u0438\\u0435\\u0445\\u0430\\u0442\\u044c\", \"\\u0441\\u043a\\u0443\\u0447\\u043d\\u043e\", \"\\u0442\\u0432\\u0438\", \"\\u0432\\u0440\\u043e\\u0434\\u0435\", \"\\u043d\\u0443\\u0436\\u043d\\u044b\\u0439\", \"\\u043f\\u043e\\u0440\\u0430\", \"\\u043c\\u0435\\u0441\\u044f\\u0446\", \"\\u0441\\u0435\\u0440\\u0438\\u0430\\u043b\", \"\\u0440\\u0435\\u0431\\u044f\\u0442\\u0430\", \"\\u043f\\u0440\\u0438\\u0439\\u0442\\u0438\\u0441\\u044c\", \"\\u043f\\u0438\\u0442\\u044c\", \"\\u0441\\u043a\\u043e\\u043b\\u044c\\u043a\\u043e\", \"\\u0443\\u0447\\u0438\\u0442\\u044c\", \"\\u0438\\u0433\\u0440\\u0430\\u0442\\u044c\", \"\\u043e\\u043d\\u043e\", \"\\u0447\\u0443\\u0432\\u0441\\u0442\\u0432\\u043e\\u0432\\u0430\\u0442\\u044c\", \"\\u0431\\u0435\\u0441\\u0438\\u0442\\u044c\", \"\\u043c\\u043e\\u0437\\u0433\", \"\\u0432\\u044b\\u0445\\u043e\\u0434\\u0438\\u0442\\u044c\", \"\\u043e\\u0447\\u0435\\u043d\\u044c\", \"\\u0441\\u043a\\u0430\\u0437\\u0430\\u0442\\u044c\", \"\\u0441\\u043f\\u0430\\u0442\\u044c\", \"\\u0438\\u0434\\u0442\\u0438\", \"\\u0447\\u0438\\u0442\\u0430\\u0442\\u044c\", \"\\u043a\\u0443\\u043f\\u0438\\u0442\\u044c\", \"\\u0441\\u043d\\u043e\\u0432\\u0430\", \"\\u0434\\u043e\\u043c\\u043e\\u0439\", \"\\u0441\\u043e\\u043d\", \"\\u043f\\u0435\\u0441\\u043d\\u044f\", \"\\u043e\\u0441\\u0442\\u0430\\u0442\\u044c\\u0441\\u044f\", \"\\u0442\\u043e\\u0447\\u043d\\u043e\", \"\\u043b\\u0430\\u0434\\u043d\\u044b\\u0439\", \"\\u043f\\u0440\\u043e\\u0441\\u043d\\u0443\\u0442\\u044c\\u0441\\u044f\", \"\\u0437\\u0432\\u0430\\u0442\\u044c\", \"\\u0437\\u0438\\u043c\\u0430\", \"\\u0441\\u0440\\u0430\\u0437\\u0443\", \"\\u0432\\u0435\\u0441\\u0435\\u043b\\u043e\", \"\\u043f\\u043e\\u043b\\u0443\\u0447\\u0430\\u0442\\u044c\\u0441\\u044f\", \"\\u0436\\u0435\\u043b\\u0430\\u043d\\u0438\\u0435\", \"\\u043f\\u043e\\u043f\\u0430\\u0441\\u0442\\u044c\", \"\\u043a\\u0430\\u043d\\u0438\\u043a\\u0443\\u043b\\u044b\", \"\\u0447\\u0451\\u0440\\u043d\\u044b\\u0439\", \"\\u0442\\u0435\\u043c\\u0430\", \"\\u0432\\u043c\\u0435\\u0441\\u0442\\u0435\", \"\\u0441\\u043e\\u0431\\u0438\\u0440\\u0430\\u0442\\u044c\\u0441\\u044f\", \"\\u0441\\u043c\\u0435\\u044f\\u0442\\u044c\\u0441\\u044f\", \"\\u0434\\u043e\\u043b\\u0433\\u043e\", \"\\u0430\\u0445\\u0430\\u0445\\u0438\", \"\\u0447\\u0438\\u0441\\u043b\\u043e\", \"\\u0437\\u043d\\u0430\\u0442\\u044c\", \"\\u043a\\u043e\\u0442\\u043e\\u0440\\u044b\\u0439\", \"\\u0434\\u0435\\u043b\\u0430\\u0442\\u044c\", \"\\u0436\\u0438\\u0437\\u043d\\u044c\", \"\\u043f\\u043e\\u0441\\u043c\\u043e\\u0442\\u0440\\u0435\\u0442\\u044c\", \"\\u043d\\u0430\\u0439\\u0442\\u0438\", \"\\u0444\\u0438\\u043b\\u044c\\u043c\", \"\\u0432\\u0447\\u0435\\u0440\\u0430\", \"\\u043f\\u043e\\u043d\\u0440\\u0430\\u0432\\u0438\\u0442\\u044c\\u0441\\u044f\", \"\\u0441\\u0442\\u043e\\u043b\\u044c\\u043a\\u043e\", \"\\u0431\\u043e\\u0433\", \"\\u043f\\u0440\\u0438\\u0432\\u0435\\u0442\", \"\\u043c\\u0438\\u043d\\u0443\\u0442\\u0430\", \"\\u043f\\u0443\\u0441\\u0442\\u044c\", \"\\u0441\\u0445\\u043e\\u0434\\u0438\\u0442\\u044c\", \"\\u043d\\u043e\\u0440\\u043c\\u0430\\u043b\\u044c\\u043d\\u044b\\u0439\", \"\\u043c\\u0443\\u0436\\u0438\\u043a\", \"\\u043d\\u043e\\u0432\\u043e\\u0433\\u043e\\u0434\\u043d\\u0438\\u0439\", \"\\u0438\\u043d\\u0442\\u0435\\u0440\\u0435\\u0441\\u043d\\u044b\\u0439\", \"\\u0431\\u043e\\u043b\\u044c\", \"\\u043d\\u043e\\u0440\\u043c\\u0430\", \"\\u0443\\u0437\\u043d\\u0430\\u0442\\u044c\", \"\\u0432\\u0430\\u0448\", \"\\u043e\\u0431\\u0438\\u0434\\u043d\\u043e\", \"\\u043f\\u043e\\u043c\\u043e\\u0447\\u044c\", \"\\u0447\\u0430\\u0439\", \"\\u0431\\u0435\\u0433\\u0430\\u0442\\u044c\", \"\\u043c\\u043e\\u0441\\u043a\\u0432\\u0430\", \"\\u0432\\u0435\\u0449\\u044c\", \"\\u0441\\u043d\\u0430\\u0447\\u0430\\u043b\\u0430\", \"\\u043c\\u043e\\u0447\\u044c\", \"\\u0442\\u0432\\u043e\\u0439\", \"\\u0441\\u0442\\u0430\\u0442\\u044c\", \"\\u043d\\u0430\\u043f\\u0438\\u0441\\u0430\\u0442\\u044c\", \"\\u0432\\u0435\\u0447\\u0435\\u0440\", \"\\u0440\\u0435\\u0448\\u0438\\u0442\\u044c\", \"\\u0432\\u0437\\u044f\\u0442\\u044c\", \"\\u043f\\u0440\\u0438\\u044f\\u0442\\u043d\\u043e\", \"\\u0441\\u0442\\u0430\\u0440\\u044b\\u0439\", \"\\u043d\\u043e\\u0433\\u0430\", \"\\u0447\\u0443\\u0432\\u0441\\u0442\\u0432\\u043e\", \"\\u043d\\u0430\\u0434\\u0435\\u044f\\u0442\\u044c\\u0441\\u044f\", \"\\u0441\\u043b\\u0438\\u0448\\u043a\\u043e\\u043c\", \"\\u0441\\u043b\\u043e\\u0432\\u043e\", \"\\u043d\\u0430\\u0447\\u0430\\u0442\\u044c\", \"\\u0437\\u0430\\u0439\\u0442\\u0438\", \"\\u043d\\u0435\\u043c\\u043d\\u043e\\u0433\\u043e\", \"\\u0436\\u0435\\u043d\\u0449\\u0438\\u043d\\u0430\", \"\\u043d\\u0438\\u043a\\u0430\\u043a\", \"\\u043c\\u0430\\u043b\\u044c\\u0447\\u0438\\u043a\", \"\\u043e\\u043a\\u043d\\u043e\", \"\\u0441\\u043a\\u0438\\u043d\\u0443\\u0442\\u044c\", \"\\u0433\\u043e\\u0442\\u043e\\u0432\\u0438\\u0442\\u044c\", \"\\u043d\\u0430\\u0447\\u0438\\u043d\\u0430\\u0442\\u044c\", \"\\u0430\\u043d\\u0433\\u043b\\u0438\\u0439\\u0441\\u043a\\u0438\\u0439\", \"\\u043c\\u044b\\u0441\\u043b\\u044c\", \"\\u043b\\u0451\\u0433\\u043a\\u0438\\u0439\", \"follow\", \"\\u0441\\u044a\\u0435\\u0441\\u0442\\u044c\", \"\\u0438\\u0441\\u043a\\u0430\\u0442\\u044c\"], \"Freq\": [16197.0, 11864.0, 9436.0, 5761.0, 5333.0, 5298.0, 4154.0, 4597.0, 4027.0, 3816.0, 3259.0, 3393.0, 3291.0, 2735.0, 2694.0, 2616.0, 2582.0, 2582.0, 2234.0, 2165.0, 2479.0, 2394.0, 2398.0, 2088.0, 2028.0, 1986.0, 2020.0, 2081.0, 1994.0, 1893.0, 9435.655197240407, 5297.63391772987, 2397.394278487387, 1685.0032793210842, 1379.699682867315, 1127.0393937637098, 865.0247756805115, 711.4177088928269, 699.5030599290375, 656.3518357609152, 605.2098077500457, 576.7521688614559, 569.850913007291, 557.3534442113389, 554.6928858121931, 543.1763046783943, 542.2189748105887, 536.5294730031846, 465.94982053428157, 458.0361979152662, 438.3848159207699, 425.0036942588348, 411.6098513879519, 394.42838634184244, 393.571501019687, 381.25495608432544, 366.4999144087883, 363.1313559477647, 362.26033594900065, 339.5324826961495, 11863.805326941583, 5332.393472705714, 2393.2734908985567, 1635.8620029630345, 1511.5088677257827, 1183.4154278552664, 1102.8232660968065, 1000.4129146191411, 963.4780146335754, 645.6489421281258, 614.5654705886309, 597.5396599722587, 594.8083322846022, 563.3560367201409, 551.973647832612, 548.2239855209061, 547.0009690205944, 536.2447001843053, 473.50247212251764, 473.1006913406153, 466.18213477106707, 465.0976241457012, 448.15723860991795, 432.784661415594, 400.482635662346, 395.5331140759986, 378.72604299681194, 372.26468122525307, 356.947372220658, 352.9042489458641, 4596.136163397637, 2693.7072963746473, 2581.3846607560718, 2581.1830691721016, 2478.680623812178, 2080.372243343048, 1580.4535476682554, 1560.4113823061377, 1352.6902489144204, 1186.5893876737048, 1139.3846790659593, 1048.847102058886, 944.8295735921563, 885.2910723802028, 812.6685782070485, 757.0699689289688, 741.5076812811387, 709.0280143496494, 701.8361471963327, 653.5382994849915, 625.344201616767, 618.5664128990783, 560.8062291223632, 540.4050442976959, 503.3053760220208, 502.2530796063914, 498.6022327153135, 489.33298176822746, 484.77910945519943, 477.14164333246055, 3290.4981806336195, 2615.064157781945, 1993.6171315306876, 1893.0207011364735, 1704.3283367761571, 1416.363392387031, 1275.1920775468873, 1218.6528534843023, 1161.0225878272754, 852.1254429702726, 709.2755894387532, 652.9943827401648, 614.2727291133568, 609.0717743260935, 606.4009181908235, 606.2233173792662, 599.7374657764678, 597.3287904153563, 543.4943000994945, 542.2214942833334, 519.0058059242771, 510.26503997127236, 493.84791524127274, 485.801811422105, 472.9620826153344, 440.40013728981836, 435.81077604871274, 412.1824823360239, 400.36227572173857, 383.4706933323473, 16196.777960867623, 1466.812313681752, 989.7606592195759, 978.0050115581155, 926.0993634161518, 693.4718989325198, 679.492955508754, 589.6564053222861, 583.4654609491012, 573.1306362245202, 568.5571735167556, 529.9160838612147, 523.4359157233459, 491.2768410292486, 488.420924246048, 478.3194708641009, 477.6093392174149, 473.85581021251073, 459.8496121499289, 451.0115819683726, 420.74315093571374, 409.60795204886, 397.77778785437397, 394.8842630274683, 371.12694841864385, 369.88375633104965, 349.037483390916, 337.9259014600794, 328.5202248688505, 322.1504743950145, 5760.424859054691, 3392.3246220259634, 2734.235095193161, 2019.048403551145, 1612.9662556815092, 1252.6540891710717, 1243.380168533857, 1218.7076911680422, 1064.2907456582325, 1033.7553444724706, 964.8621289257062, 937.1308893874518, 902.8923001993843, 880.0014169298228, 758.4910304874157, 675.7030370108475, 611.25669495821, 581.4152478369132, 532.0169042082955, 487.6187279520091, 470.6618351692699, 431.35439945689404, 405.30574834388483, 403.72061624487316, 400.6295210249238, 379.0007695675061, 370.88801934113786, 361.3048393272697, 352.75552946178186, 352.3510742783202, 3815.9932293902607, 1581.0252285673653, 1360.8320282575646, 1355.7975775057503, 1347.8698615570934, 1292.950828174292, 1086.7303594968962, 1044.3102971794153, 977.5881924664297, 849.0955107107569, 807.6994811110707, 728.2170340885891, 685.2536909093192, 638.0514583287431, 627.9568718335081, 589.3974465315775, 586.914996902733, 578.616435850544, 539.2528394350011, 504.03116436256425, 478.5271701781931, 469.69821885925336, 464.42110746576344, 420.28289236705467, 418.66040896467575, 407.3328947730935, 392.61323011698585, 385.2848787383823, 355.3111428732756, 353.1495151433363, 4026.854712500171, 2233.7637824364, 2087.724255348661, 2027.8020689260934, 979.0873416375478, 948.0234356458944, 881.8418673976928, 810.0878126322904, 806.400658278726, 744.3249970711815, 694.0078322748396, 622.1539865274804, 550.7990097742951, 533.3198224172428, 466.2350233525852, 452.4350001972918, 445.94403284271624, 423.8347673034489, 417.7651730620958, 408.6554978900013, 394.63840894399397, 388.3298404311701, 381.0755558323443, 345.6141881747467, 344.374941404409, 338.27188303264506, 334.8171518852271, 314.03444485578416, 308.1259853425071, 308.11518145444757, 3258.080383335285, 2164.607749503536, 1985.6258624078584, 1448.417502807191, 1303.6143666281073, 936.4128785010755, 922.2963722920789, 686.4073992435419, 623.3967432648126, 600.6933603175603, 594.0661364849482, 564.5985695163246, 540.6097501606071, 500.1966751707744, 480.90547976916787, 479.4100547410657, 475.42664714062647, 461.03435021013104, 455.6343695834978, 438.2098624901368, 433.9944472204712, 421.1199769380271, 418.16054015913284, 409.0224220404216, 385.9599755567174, 358.05482593695467, 352.9479367136405, 325.28920491331803, 315.11648901862674, 310.675102189854, 4153.934326037269, 1593.7143995076963, 1210.1486986223267, 1145.116841103045, 962.8671116646216, 661.37261143029, 626.3831622091576, 618.0666593798301, 597.8902100572684, 554.0095253463417, 546.5356065159039, 544.2497112044964, 544.1344074359415, 538.5473431885569, 534.0601111962742, 518.5077078300023, 496.0532299989638, 430.78620447710546, 344.0561463167137, 342.98523501344766, 324.91446660859293, 317.4019738410808, 311.8214842647443, 308.7109427852837, 281.96352779279204, 279.047832200405, 274.2573862603915, 272.81960451225234, 269.4425608320695, 264.52807023135614], \"Total\": [16197.0, 11864.0, 9436.0, 5761.0, 5333.0, 5298.0, 4154.0, 4597.0, 4027.0, 3816.0, 3259.0, 3393.0, 3291.0, 2735.0, 2694.0, 2616.0, 2582.0, 2582.0, 2234.0, 2165.0, 2479.0, 2394.0, 2398.0, 2088.0, 2028.0, 1986.0, 2020.0, 2081.0, 1994.0, 1893.0, 9436.623089691047, 5298.6018204911, 2398.36219125076, 1685.9711405676217, 1380.6675538970667, 1128.007267442028, 865.9926648636927, 712.3855917609503, 700.4709228584946, 657.31973841314, 606.1776880540054, 577.7201174773776, 570.8188152552482, 558.3213930200704, 555.6607586449169, 544.1441905254597, 543.1868489898377, 537.4974146198696, 466.9177346345231, 459.0041017866015, 439.3526984939322, 425.97157682760076, 412.5778414410289, 395.39631997470406, 394.539360250366, 382.2228842273618, 367.4678671893615, 364.09928083841766, 363.2282432329759, 340.5004237001415, 11864.769464284485, 5333.357606254453, 2394.2376021448968, 1636.8261399705389, 1512.4730230213188, 1184.3795991286058, 1103.7874086585853, 1001.3770217823799, 964.4421144455863, 646.6130458268817, 615.5296445457567, 598.5038825803491, 595.7724742928829, 564.3202779761523, 552.9377622742932, 549.1880855513039, 547.965124143186, 537.208812187591, 474.4666158100182, 474.06484659630974, 467.14622977814633, 466.06171738512705, 449.12139733481183, 433.7487584571011, 401.4467791537748, 396.49728918145627, 379.690140163276, 373.2288780021615, 357.91147544677926, 353.86834666936835, 4597.102072046438, 2694.6732716645674, 2582.350635053617, 2582.1490249260237, 2479.646582364115, 2081.3381787982657, 1581.41948894331, 1561.3773415321969, 1353.6562062323007, 1187.5552746237, 1140.3506551293626, 1049.81307373974, 945.7954797341977, 886.2570719150401, 813.6345214459122, 758.0358882947771, 742.4736311576117, 709.9940146204743, 702.8020645101408, 654.5042843438242, 626.3100761852854, 619.5323450086291, 561.7721715085305, 541.3710296715526, 504.2713822061689, 503.21902213580955, 499.56828761199074, 490.29891361626994, 485.745038625389, 478.1076888217216, 3291.463881700275, 2616.029874806905, 1994.5827951078297, 1893.9863966298003, 1705.2940133333323, 1417.3290867260512, 1276.1577864870396, 1219.6185381660312, 1161.9882577905628, 853.0911257684323, 710.2412957125912, 653.960094494099, 615.238404072315, 610.0374716639254, 607.3666048306442, 607.1890182773506, 600.7031250565636, 598.2944665543944, 544.4599860203089, 543.1871876535289, 519.9714983540963, 511.23085638927546, 494.8135721658322, 486.76756480489814, 473.9277501219831, 441.3658521185819, 436.77651305091814, 413.1482018454544, 401.32807454045616, 384.43634085154855, 16197.740167654198, 1467.774577256606, 990.7228775847373, 978.9673365616209, 927.0616087466199, 694.434098841837, 680.455192247781, 590.6188095281459, 584.427709312849, 574.0928793466506, 569.5194194310503, 530.8783904447192, 524.3981339324043, 492.2390524634159, 489.383194887075, 479.28167343157236, 478.5715576084665, 474.8180357637801, 460.8118223324137, 451.9738746157652, 421.70535118011117, 410.570262886198, 398.7400291680767, 395.8464553714998, 372.08917474821266, 370.84600267799266, 349.99973296508773, 338.8881131137791, 329.4824579277077, 323.1127567996448, 5761.3890904193595, 3393.2888664812413, 2735.1993334714684, 2020.0126574994888, 1613.9305106859697, 1253.6183202684547, 1244.3444328833864, 1219.6719023138771, 1065.2550227675197, 1034.719677146399, 965.8263915465594, 938.0951129032103, 903.8565442665534, 880.9656783379432, 759.4553026415109, 676.66733462436, 612.2209605151594, 582.3794849663636, 532.981114975518, 488.5829566777219, 471.62612248742124, 432.3186704144167, 406.2700674454671, 404.6848492137757, 401.5937532055097, 379.9649791689836, 371.8522650191219, 362.269081888797, 353.71973387331354, 353.3154043798047, 3816.954597828541, 1581.9865663606088, 1361.7933520667646, 1356.7589150480428, 1348.8311932816248, 1293.9121994115976, 1087.6917034374433, 1045.2716397487866, 978.5495580132683, 850.05688803106, 808.6608146681623, 729.178419717161, 686.2150393243065, 639.0128728025254, 628.9182346729729, 590.3588117821689, 587.8763769794838, 579.5778604296394, 540.2142882871543, 504.99256420615586, 479.4885259545783, 470.6596592077608, 465.38247485403707, 421.2442652439268, 419.62175687637216, 408.2943094526875, 393.5745546924925, 386.246231447035, 356.2726161208232, 354.1109023898781, 4027.8172024501705, 2234.7262623873303, 2088.686724219654, 2028.7645591450812, 980.049833747396, 948.9859283668595, 882.8043256235129, 811.0503105375344, 807.3631088711614, 745.2874772335726, 694.9703247983865, 623.1164586860651, 551.7614726453618, 534.2823434013417, 467.1975609674611, 453.3974868323428, 446.9064789648184, 424.79725755914296, 418.72766349933704, 409.61792807371756, 395.60088908779613, 389.29229942799844, 382.03801520804905, 346.5767419686492, 345.3374201290166, 339.23434723101735, 335.77969164788766, 314.9968870947933, 309.08840475785314, 309.0778189572967, 3259.039987506809, 2165.5674002843894, 1986.5854667233639, 1449.3771020270399, 1304.5739582148415, 937.3724684572419, 923.2559774149183, 687.3670321712857, 624.3563657872345, 601.6530154392196, 595.0257844752404, 565.5581759967826, 541.5693753512039, 501.1563372584895, 481.86509589959303, 480.36973102855313, 476.3862627684846, 461.99394227647866, 456.5939988605496, 439.1694526400245, 434.95403925982816, 422.0795734450609, 419.12015299391, 409.982000676644, 386.91959544623364, 359.01451072647154, 353.90761431925597, 326.24887735752833, 316.0761201247963, 311.63474507518265, 4154.887293464894, 1594.6673855055972, 1211.101695878911, 1146.0698009007613, 963.8200877987581, 662.3256065819062, 627.3361441104915, 619.0196460636073, 598.8432387457382, 554.962488323002, 547.4885779095969, 545.2026697227119, 545.0874266142296, 539.5003118536931, 535.0130768653869, 519.4606965584006, 497.006214436372, 431.7392219491995, 345.00910675380715, 343.9382466997457, 325.8674219216765, 318.35492458678215, 312.7744603496611, 309.6638859432922, 282.9164690683827, 280.0007821552486, 275.21037918035796, 273.77256007248536, 270.3955670565735, 265.4810390337463], \"Category\": [\"Default\", \"Default\", \"Default\", \"Default\", \"Default\", \"Default\", \"Default\", \"Default\", \"Default\", \"Default\", \"Default\", \"Default\", \"Default\", \"Default\", \"Default\", \"Default\", \"Default\", \"Default\", \"Default\", \"Default\", \"Default\", \"Default\", \"Default\", \"Default\", \"Default\", \"Default\", \"Default\", \"Default\", \"Default\", \"Default\", \"Topic1\", \"Topic1\", \"Topic1\", \"Topic1\", \"Topic1\", \"Topic1\", \"Topic1\", \"Topic1\", \"Topic1\", \"Topic1\", \"Topic1\", \"Topic1\", \"Topic1\", \"Topic1\", \"Topic1\", \"Topic1\", \"Topic1\", \"Topic1\", \"Topic1\", \"Topic1\", \"Topic1\", \"Topic1\", \"Topic1\", \"Topic1\", \"Topic1\", \"Topic1\", \"Topic1\", \"Topic1\", \"Topic1\", \"Topic1\", \"Topic2\", \"Topic2\", \"Topic2\", \"Topic2\", \"Topic2\", \"Topic2\", \"Topic2\", \"Topic2\", \"Topic2\", \"Topic2\", \"Topic2\", \"Topic2\", \"Topic2\", \"Topic2\", \"Topic2\", \"Topic2\", \"Topic2\", \"Topic2\", \"Topic2\", \"Topic2\", \"Topic2\", \"Topic2\", \"Topic2\", \"Topic2\", \"Topic2\", \"Topic2\", \"Topic2\", \"Topic2\", \"Topic2\", \"Topic2\", \"Topic3\", \"Topic3\", \"Topic3\", \"Topic3\", \"Topic3\", \"Topic3\", \"Topic3\", \"Topic3\", \"Topic3\", \"Topic3\", \"Topic3\", \"Topic3\", \"Topic3\", \"Topic3\", \"Topic3\", \"Topic3\", \"Topic3\", \"Topic3\", \"Topic3\", \"Topic3\", \"Topic3\", \"Topic3\", \"Topic3\", \"Topic3\", \"Topic3\", \"Topic3\", \"Topic3\", \"Topic3\", \"Topic3\", \"Topic3\", \"Topic4\", \"Topic4\", \"Topic4\", \"Topic4\", \"Topic4\", \"Topic4\", \"Topic4\", \"Topic4\", \"Topic4\", \"Topic4\", \"Topic4\", \"Topic4\", \"Topic4\", \"Topic4\", \"Topic4\", \"Topic4\", \"Topic4\", \"Topic4\", \"Topic4\", \"Topic4\", \"Topic4\", \"Topic4\", \"Topic4\", \"Topic4\", \"Topic4\", \"Topic4\", \"Topic4\", \"Topic4\", \"Topic4\", \"Topic4\", \"Topic5\", \"Topic5\", \"Topic5\", \"Topic5\", \"Topic5\", \"Topic5\", \"Topic5\", \"Topic5\", \"Topic5\", \"Topic5\", \"Topic5\", \"Topic5\", \"Topic5\", \"Topic5\", \"Topic5\", \"Topic5\", \"Topic5\", \"Topic5\", \"Topic5\", \"Topic5\", \"Topic5\", \"Topic5\", \"Topic5\", \"Topic5\", \"Topic5\", \"Topic5\", \"Topic5\", \"Topic5\", \"Topic5\", \"Topic5\", \"Topic6\", \"Topic6\", \"Topic6\", \"Topic6\", \"Topic6\", \"Topic6\", \"Topic6\", \"Topic6\", \"Topic6\", \"Topic6\", \"Topic6\", \"Topic6\", \"Topic6\", \"Topic6\", \"Topic6\", \"Topic6\", \"Topic6\", \"Topic6\", \"Topic6\", \"Topic6\", \"Topic6\", \"Topic6\", \"Topic6\", \"Topic6\", \"Topic6\", \"Topic6\", \"Topic6\", \"Topic6\", \"Topic6\", \"Topic6\", \"Topic7\", \"Topic7\", \"Topic7\", \"Topic7\", \"Topic7\", \"Topic7\", \"Topic7\", \"Topic7\", \"Topic7\", \"Topic7\", \"Topic7\", \"Topic7\", \"Topic7\", \"Topic7\", \"Topic7\", \"Topic7\", \"Topic7\", \"Topic7\", \"Topic7\", \"Topic7\", \"Topic7\", \"Topic7\", \"Topic7\", \"Topic7\", \"Topic7\", \"Topic7\", \"Topic7\", \"Topic7\", \"Topic7\", \"Topic7\", \"Topic8\", \"Topic8\", \"Topic8\", \"Topic8\", \"Topic8\", \"Topic8\", \"Topic8\", \"Topic8\", \"Topic8\", \"Topic8\", \"Topic8\", \"Topic8\", \"Topic8\", \"Topic8\", \"Topic8\", \"Topic8\", \"Topic8\", \"Topic8\", \"Topic8\", \"Topic8\", \"Topic8\", \"Topic8\", \"Topic8\", \"Topic8\", \"Topic8\", \"Topic8\", \"Topic8\", \"Topic8\", \"Topic8\", \"Topic8\", \"Topic9\", \"Topic9\", \"Topic9\", \"Topic9\", \"Topic9\", \"Topic9\", \"Topic9\", \"Topic9\", \"Topic9\", \"Topic9\", \"Topic9\", \"Topic9\", \"Topic9\", \"Topic9\", \"Topic9\", \"Topic9\", \"Topic9\", \"Topic9\", \"Topic9\", \"Topic9\", \"Topic9\", \"Topic9\", \"Topic9\", \"Topic9\", \"Topic9\", \"Topic9\", \"Topic9\", \"Topic9\", \"Topic9\", \"Topic9\", \"Topic10\", \"Topic10\", \"Topic10\", \"Topic10\", \"Topic10\", \"Topic10\", \"Topic10\", \"Topic10\", \"Topic10\", \"Topic10\", \"Topic10\", \"Topic10\", \"Topic10\", \"Topic10\", \"Topic10\", \"Topic10\", \"Topic10\", \"Topic10\", \"Topic10\", \"Topic10\", \"Topic10\", \"Topic10\", \"Topic10\", \"Topic10\", \"Topic10\", \"Topic10\", \"Topic10\", \"Topic10\", \"Topic10\", \"Topic10\"], \"logprob\": [30.0, 29.0, 28.0, 27.0, 26.0, 25.0, 24.0, 23.0, 22.0, 21.0, 20.0, 19.0, 18.0, 17.0, 16.0, 15.0, 14.0, 13.0, 12.0, 11.0, 10.0, 9.0, 8.0, 7.0, 6.0, 5.0, 4.0, 3.0, 2.0, 1.0, -1.9024, -2.4796, -3.2725, -3.6251, -3.825, -4.0273, -4.2919, -4.4874, -4.5043, -4.568, -4.6491, -4.6972, -4.7093, -4.7315, -4.7362, -4.7572, -4.759, -4.7695, -4.9106, -4.9277, -4.9716, -5.0026, -5.0346, -5.0772, -5.0794, -5.1112, -5.1507, -5.1599, -5.1623, -5.2271, -1.6638, -2.4635, -3.2646, -3.6451, -3.7242, -3.9689, -4.0394, -4.1369, -4.1745, -4.5748, -4.6241, -4.6522, -4.6568, -4.7111, -4.7315, -4.7383, -4.7406, -4.7604, -4.8849, -4.8857, -4.9005, -4.9028, -4.9399, -4.9748, -5.0524, -5.0648, -5.1082, -5.1254, -5.1674, -5.1788, -2.6109, -3.1452, -3.1878, -3.1879, -3.2284, -3.4036, -3.6784, -3.6912, -3.834, -3.965, -4.0056, -4.0884, -4.1929, -4.258, -4.3436, -4.4144, -4.4352, -4.48, -4.4902, -4.5615, -4.6056, -4.6165, -4.7145, -4.7516, -4.8227, -4.8248, -4.8321, -4.8508, -4.8602, -4.8761, -2.9237, -3.1535, -3.4248, -3.4766, -3.5816, -3.7667, -3.8717, -3.917, -3.9655, -4.2748, -4.4583, -4.541, -4.6021, -4.6106, -4.615, -4.6153, -4.626, -4.6301, -4.7245, -4.7269, -4.7706, -4.7876, -4.8203, -4.8367, -4.8635, -4.9349, -4.9453, -5.0011, -5.0302, -5.0733, -1.3111, -3.7128, -4.1062, -4.1181, -4.1726, -4.4619, -4.4823, -4.6241, -4.6346, -4.6525, -4.6605, -4.7309, -4.7432, -4.8066, -4.8124, -4.8333, -4.8348, -4.8427, -4.8727, -4.8921, -4.9616, -4.9884, -5.0177, -5.025, -5.0871, -5.0904, -5.1484, -5.1808, -5.209, -5.2286, -2.248, -2.7775, -2.9932, -3.2964, -3.5209, -3.7737, -3.7812, -3.8012, -3.9367, -3.9658, -4.0348, -4.0639, -4.1012, -4.1268, -4.2754, -4.391, -4.4912, -4.5413, -4.6301, -4.7172, -4.7526, -4.8398, -4.9021, -4.906, -4.9137, -4.9692, -4.9909, -5.017, -5.041, -5.0421, -2.6052, -3.4863, -3.6363, -3.64, -3.6459, -3.6875, -3.8612, -3.9011, -3.9671, -4.108, -4.158, -4.2616, -4.3224, -4.3938, -4.4097, -4.4731, -4.4773, -4.4915, -4.562, -4.6295, -4.6815, -4.7001, -4.7114, -4.8112, -4.8151, -4.8425, -4.8793, -4.8982, -4.9792, -4.9853, -2.4384, -3.0277, -3.0953, -3.1244, -3.8525, -3.8847, -3.9571, -4.042, -4.0465, -4.1266, -4.1966, -4.3059, -4.4278, -4.46, -4.5944, -4.6245, -4.6389, -4.6898, -4.7042, -4.7263, -4.7612, -4.7773, -4.7961, -4.8938, -4.8974, -4.9153, -4.9255, -4.9896, -5.0086, -5.0086, -2.6397, -3.0486, -3.1349, -3.4504, -3.5557, -3.8865, -3.9017, -4.1971, -4.2934, -4.3305, -4.3416, -4.3925, -4.4359, -4.5136, -4.5529, -4.556, -4.5644, -4.5951, -4.6069, -4.6459, -4.6556, -4.6857, -4.6927, -4.7148, -4.7729, -4.8479, -4.8623, -4.9439, -4.9757, -4.9898, -2.2848, -3.2428, -3.5181, -3.5733, -3.7467, -4.1223, -4.1766, -4.19, -4.2232, -4.2994, -4.313, -4.3172, -4.3174, -4.3277, -4.3361, -4.3656, -4.4099, -4.551, -4.7758, -4.7789, -4.833, -4.8564, -4.8742, -4.8842, -4.9748, -4.9852, -5.0025, -5.0078, -5.0202, -5.0386], \"loglift\": [30.0, 29.0, 28.0, 27.0, 26.0, 25.0, 24.0, 23.0, 22.0, 21.0, 20.0, 19.0, 18.0, 17.0, 16.0, 15.0, 14.0, 13.0, 12.0, 11.0, 10.0, 9.0, 8.0, 7.0, 6.0, 5.0, 4.0, 3.0, 2.0, 1.0, 2.1602, 2.1602, 2.1599, 2.1598, 2.1596, 2.1595, 2.1592, 2.159, 2.159, 2.1589, 2.1587, 2.1587, 2.1586, 2.1586, 2.1586, 2.1586, 2.1586, 2.1585, 2.1583, 2.1582, 2.1581, 2.1581, 2.158, 2.1579, 2.1579, 2.1578, 2.1577, 2.1577, 2.1577, 2.1575, 2.1699, 2.1698, 2.1696, 2.1694, 2.1693, 2.1691, 2.1691, 2.169, 2.169, 2.1685, 2.1684, 2.1683, 2.1683, 2.1682, 2.1682, 2.1682, 2.1682, 2.1682, 2.1679, 2.1679, 2.1679, 2.1679, 2.1678, 2.1677, 2.1676, 2.1675, 2.1674, 2.1674, 2.1673, 2.1672, 2.1709, 2.1707, 2.1707, 2.1707, 2.1707, 2.1706, 2.1705, 2.1705, 2.1704, 2.1703, 2.1703, 2.1702, 2.1701, 2.17, 2.1699, 2.1698, 2.1698, 2.1697, 2.1697, 2.1696, 2.1696, 2.1695, 2.1694, 2.1693, 2.1692, 2.1692, 2.1692, 2.1691, 2.1691, 2.1691, 2.1922, 2.1921, 2.192, 2.1919, 2.1919, 2.1918, 2.1917, 2.1917, 2.1916, 2.1913, 2.1911, 2.191, 2.1909, 2.1909, 2.1909, 2.1909, 2.1908, 2.1908, 2.1907, 2.1907, 2.1906, 2.1906, 2.1905, 2.1905, 2.1904, 2.1903, 2.1902, 2.1901, 2.19, 2.1899, 2.2113, 2.2107, 2.2104, 2.2104, 2.2103, 2.21, 2.21, 2.2097, 2.2097, 2.2097, 2.2097, 2.2096, 2.2095, 2.2094, 2.2094, 2.2094, 2.2094, 2.2093, 2.2093, 2.2092, 2.2091, 2.209, 2.209, 2.2089, 2.2088, 2.2088, 2.2086, 2.2085, 2.2084, 2.2084, 2.3081, 2.3079, 2.3079, 2.3077, 2.3076, 2.3075, 2.3074, 2.3074, 2.3073, 2.3073, 2.3072, 2.3072, 2.3072, 2.3071, 2.307, 2.3068, 2.3066, 2.3066, 2.3064, 2.3062, 2.3062, 2.306, 2.3058, 2.3058, 2.3058, 2.3057, 2.3056, 2.3056, 2.3055, 2.3055, 2.3626, 2.3622, 2.3621, 2.3621, 2.3621, 2.3621, 2.3619, 2.3619, 2.3618, 2.3617, 2.3616, 2.3615, 2.3614, 2.3613, 2.3613, 2.3612, 2.3612, 2.3612, 2.361, 2.3609, 2.3608, 2.3608, 2.3607, 2.3605, 2.3605, 2.3605, 2.3604, 2.3603, 2.3601, 2.3601, 2.4756, 2.4754, 2.4754, 2.4754, 2.4749, 2.4748, 2.4748, 2.4747, 2.4747, 2.4746, 2.4745, 2.4743, 2.4741, 2.4741, 2.4738, 2.4737, 2.4737, 2.4736, 2.4736, 2.4735, 2.4734, 2.4734, 2.4733, 2.4731, 2.4731, 2.473, 2.473, 2.4728, 2.4727, 2.4727, 2.4861, 2.486, 2.4859, 2.4857, 2.4857, 2.4854, 2.4854, 2.485, 2.4849, 2.4848, 2.4848, 2.4847, 2.4846, 2.4845, 2.4844, 2.4844, 2.4844, 2.4843, 2.4843, 2.4842, 2.4842, 2.4841, 2.4841, 2.4841, 2.4839, 2.4837, 2.4837, 2.4834, 2.4834, 2.4833, 2.5982, 2.5978, 2.5976, 2.5976, 2.5974, 2.597, 2.5969, 2.5969, 2.5968, 2.5967, 2.5967, 2.5966, 2.5966, 2.5966, 2.5966, 2.5966, 2.5965, 2.5962, 2.5956, 2.5956, 2.5955, 2.5954, 2.5953, 2.5953, 2.595, 2.595, 2.5949, 2.5949, 2.5949, 2.5948]}, \"token.table\": {\"Topic\": [10, 5, 1, 10, 5, 8, 5, 9, 7, 2, 6, 4, 9, 1, 9, 2, 4, 3, 2, 6, 9, 6, 8, 2, 10, 9, 10, 4, 1, 2, 8, 1, 4, 7, 2, 1, 6, 9, 1, 7, 6, 5, 1, 1, 6, 6, 6, 10, 4, 4, 3, 4, 4, 9, 5, 3, 2, 5, 7, 8, 5, 7, 8, 7, 3, 1, 3, 6, 1, 3, 7, 8, 10, 9, 1, 6, 6, 10, 3, 2, 8, 8, 9, 6, 7, 8, 4, 5, 9, 10, 5, 2, 3, 8, 1, 4, 5, 9, 3, 7, 1, 3, 8, 8, 2, 7, 2, 4, 10, 1, 10, 3, 5, 7, 5, 9, 5, 7, 6, 9, 10, 9, 1, 10, 2, 10, 9, 10, 3, 6, 10, 10, 5, 3, 10, 4, 1, 2, 10, 4, 9, 3, 10, 9, 1, 9, 6, 3, 6, 7, 9, 3, 1, 10, 7, 8, 5, 8, 5, 4, 1, 3, 8, 6, 7, 6, 2, 6, 2, 5, 3, 4, 8, 3, 3, 5, 9, 2, 9, 1, 8, 7, 6, 9, 1, 1, 4, 2, 5, 9, 7, 3, 7, 2, 10, 5, 4, 5, 8, 4, 3, 4, 9, 3, 5, 3, 1, 1, 4, 7, 6, 10, 5, 3, 3, 5, 2, 4, 6, 7, 7, 2, 1, 7, 8, 10, 7, 2, 4, 6, 7, 10, 10, 8, 6, 3, 9, 3, 8, 8, 2, 8, 3, 8, 8, 10, 10, 4, 9, 5, 6, 9, 4, 6, 10, 2, 7, 2, 1, 10, 7, 8, 1, 8, 5, 1, 2, 1, 9, 4, 4, 2, 5, 4, 7, 7, 2, 9, 2, 5, 6, 2, 1, 4, 6, 6, 4, 9, 7, 3, 8, 8, 10, 7, 8, 4, 5, 2, 6, 5], \"Freq\": [0.9971780953055309, 0.9999543042642655, 0.9977191510409297, 0.9967606372601759, 0.9978614429511897, 0.9964786619585234, 0.997934866902088, 0.9974354484545302, 0.9967734793363133, 0.9996872519283856, 0.9981591937351043, 0.996263774521506, 0.9982760671856514, 0.9995164991781096, 0.9973371266307471, 0.9975461307078147, 0.9992411787508696, 0.9976831813258401, 0.9977498280739876, 0.9979652425228519, 0.9973273702399935, 0.9968738345567691, 0.9981232045523929, 0.9997454499857912, 0.999149127716739, 0.9965953766947929, 0.997870130514501, 0.9975923667871521, 0.9991070381626953, 0.9963960872800511, 0.9961272076205441, 0.9994320327197745, 0.9994791955044896, 0.998539977659496, 0.9990165465925952, 0.9999339711160311, 0.9980837547167699, 0.9980112049206558, 0.9979922428370612, 0.9968628404763008, 0.9989038411351449, 0.9973793323536227, 0.9976332753202904, 0.9994239874311878, 0.9996201718945968, 0.9993044713826419, 0.999013792169042, 0.9975239015717737, 0.9980417658396986, 0.9990622596131705, 0.9974674860744129, 0.9977499506562018, 0.9981316315275521, 0.9997052899393604, 0.9992703533943825, 0.999760268092993, 0.9991580963883196, 0.9985357098197515, 0.999182828379741, 0.9968352477893113, 0.9975570814146927, 0.999440641193048, 0.9987049995248282, 0.9993763750074829, 0.9997392441452286, 0.9978124339571407, 0.9985999676053527, 0.9988068419707353, 0.9998864190004291, 0.9985815944889175, 0.9993640629644804, 0.998491452567461, 0.9982878045087911, 0.9990498663011069, 0.9993277053434668, 0.9988218569819468, 0.9995615188053054, 0.9991131252827156, 0.998466194060371, 0.9982387124642373, 0.997436713999574, 0.996917744643654, 0.9996808914555219, 0.9977080547860101, 0.9985182920899992, 0.9996231405257773, 0.9982221730617012, 0.9971436179204529, 0.9986990655548869, 0.9981880474948527, 0.998096337045855, 0.9992866301496026, 0.9988587618752944, 0.9966803878990228, 0.9969808211763387, 0.998299331250758, 0.9978616573168366, 0.9997379900139267, 0.9992295171232839, 0.9987566855278263, 0.9987535184329014, 0.9991407308869051, 0.9989610716688326, 0.998619924218864, 0.9975463148258936, 0.9992950067152837, 0.9994830913424014, 0.9978144041676363, 0.995601985710122, 0.9978972659354226, 0.9972720489542857, 0.9995152342010626, 0.9982771594544335, 0.9990029632442982, 0.9981440810705143, 0.9989486566687146, 0.9974828237271809, 0.9964279709883972, 0.9976312953976335, 0.9961720102528975, 0.9997864458402301, 0.9970900446196151, 0.9990745730000927, 0.9964257880012145, 0.9977219382207921, 0.9977940868790617, 0.9985358344698338, 0.9990665482155446, 0.9995324220812578, 0.9969497722290073, 0.9981064446661333, 0.9978561079498506, 0.9994722777812014, 0.9988155791174519, 0.9979754489840472, 0.9973184695702241, 0.9980344832366639, 0.998835171485881, 0.997075130093516, 0.9994928429286084, 0.9978485815818688, 0.9997501471990511, 0.9982656695844245, 0.9978065745487692, 0.9985655426321537, 0.9971485900545393, 0.9994491122468244, 0.9986334574513255, 0.9991443684353706, 0.9976983289568137, 0.9976047712459979, 0.9988624425807586, 0.9960054542983887, 0.9973381140202319, 0.9968299596082479, 0.9986037895953788, 0.9978452856006487, 0.9997971103431225, 0.9989522691824863, 0.9985318760239618, 0.9980549974943692, 0.9991178676060168, 0.9982725092358299, 0.9994234505886043, 0.9985984369068911, 0.9962769685003865, 0.9986248717991063, 0.9980056865185863, 0.9977537954903108, 0.9973258451081682, 0.9991023956937204, 0.9990927560061152, 0.9982622034253579, 0.9975775515586918, 0.9973507719878684, 0.9990879688851185, 0.9976232905827034, 0.9985047164324473, 0.9978275775477611, 0.998853726014124, 0.9984810724536497, 0.9985092495398665, 0.9988326206072845, 0.9995600416433064, 0.9966185359870595, 0.9986329367746131, 0.9997078110223054, 0.9990519123750469, 0.9982382779844825, 0.9990130529086618, 0.9983839075796866, 0.999362090264575, 0.9989811519397556, 0.9976604101825168, 0.9983528050037002, 0.9965561347355444, 0.9983558006255342, 0.9986110467860259, 0.9975998768868571, 0.9980424228761783, 0.9995550121565673, 0.9978364056050038, 0.9976926616057276, 0.9992255061781202, 0.998854867102031, 0.9974787738288724, 0.9985994365596305, 0.9988108596213844, 0.9969053969353865, 0.9980344973837068, 0.9986724177106243, 0.997998557554271, 0.9977187224026054, 0.9979082626400252, 0.9992201394739438, 0.9973338312210993, 0.9994952793394699, 0.9996063214656595, 0.999506771512144, 0.9997499058990421, 0.9977522099776286, 0.9975031309096684, 0.9985303287006122, 0.9993837677496155, 0.9996750105820323, 0.9957439810659728, 0.9970293792122905, 0.998745794246203, 0.9987209739552155, 0.9990523448970008, 0.9982293606891756, 0.9980050418315755, 0.9990726384346765, 0.9976779666332374, 0.9994986875474621, 0.998625472126081, 0.9979631761694945, 0.9991589304968752, 0.9990888970520792, 0.9963613730711744, 0.9967074412656933, 0.9983116532621025, 0.9993570584483111, 0.9996712172238704, 0.9979716584845265, 0.9985918873401588, 0.9990903357805049, 0.99825229014409, 0.9989146311537341, 0.9970728125886766, 0.9974603470796333, 0.9982046927512399, 0.9984231389673514, 0.9964968528857603, 0.994838794615736, 0.9991395304020694, 0.9984149414735837, 0.9978366508987332, 0.9980571900331962, 0.9995814892110648, 0.9994383953180828, 0.9983358895770873, 0.9978150262804689, 0.998208266415528, 0.9983454017708586, 0.9968005991325355, 0.9981823595340684, 0.9964685559673561, 0.9974422513834317, 0.9972208475304367, 0.9979871151343643, 0.9982737507773751, 0.9990118806567966, 0.9966908008068539, 0.9994174211046335, 0.9970462144019782, 0.9974533494751978, 0.9986396216806145, 0.9987034072129638, 0.9983273838519305, 0.9983076974215709, 0.9983040364788326, 0.9969211558309095, 0.9995552490463547, 0.999758896613723, 0.9989195653165972, 0.9988294965895218, 0.9971741790480316, 0.998783436094093, 0.9994769745691064, 0.9965127909827601, 0.9989287955456492, 0.9991076016389925, 0.9985401630119575, 0.9972829530917656, 0.9991495113793646, 0.9971735954533663, 0.9999351471356606, 0.9985215078651738, 0.9988057008416407], \"Term\": [\"follow\", \"http\", \"\\u0430\\u0433\\u0430\", \"\\u0430\\u043d\\u0433\\u043b\\u0438\\u0439\\u0441\\u043a\\u0438\\u0439\", \"\\u0430\\u0445\\u0430\\u0445\", \"\\u0430\\u0445\\u0430\\u0445\\u0438\", \"\\u0430\\u0445\\u0438\", \"\\u0431\\u0435\\u0433\\u0430\\u0442\\u044c\", \"\\u0431\\u0435\\u0441\\u0438\\u0442\\u044c\", \"\\u0431\\u043b\\u0438\\u043d\", \"\\u0431\\u043b\\u044f\", \"\\u0431\\u043b\\u044f\\u0434\\u044c\", \"\\u0431\\u043e\\u0433\", \"\\u0431\\u043e\\u043b\\u0435\\u0442\\u044c\", \"\\u0431\\u043e\\u043b\\u044c\", \"\\u0431\\u043e\\u043b\\u044c\\u043d\\u043e\", \"\\u0431\\u043e\\u043b\\u044c\\u0448\\u043e\\u0439\", \"\\u0431\\u0440\\u0430\\u0442\", \"\\u0431\\u044b\\u0432\\u0430\\u0442\\u044c\", \"\\u0431\\u044b\\u0441\\u0442\\u0440\\u043e\", \"\\u0432\\u0430\\u0448\", \"\\u0432\\u0435\\u0440\\u0438\\u0442\\u044c\", \"\\u0432\\u0435\\u0441\\u0435\\u043b\\u043e\", \"\\u0432\\u0435\\u0441\\u044c\", \"\\u0432\\u0435\\u0447\\u0435\\u0440\", \"\\u0432\\u0435\\u0449\\u044c\", \"\\u0432\\u0437\\u044f\\u0442\\u044c\", \"\\u0432\\u0438\\u0434\\u0435\\u043e\", \"\\u0432\\u0438\\u0434\\u0435\\u0442\\u044c\", \"\\u0432\\u0438\\u0434\\u0438\\u043c\\u043e\", \"\\u0432\\u043c\\u0435\\u0441\\u0442\\u0435\", \"\\u0432\\u043e\\u043e\\u0431\\u0449\\u0435\", \"\\u0432\\u0440\\u0435\\u043c\\u044f\", \"\\u0432\\u0440\\u043e\\u0434\\u0435\", \"\\u0432\\u0441\\u043f\\u043e\\u043c\\u043d\\u0438\\u0442\\u044c\", \"\\u0432\\u0441\\u0451\", \"\\u0432\\u0442\\u043e\\u0440\\u043e\\u0439\", \"\\u0432\\u0447\\u0435\\u0440\\u0430\", \"\\u0432\\u044b\\u0439\\u0442\\u0438\", \"\\u0432\\u044b\\u0445\\u043e\\u0434\\u0438\\u0442\\u044c\", \"\\u0432\\u044b\\u0445\\u043e\\u0434\\u043d\\u043e\\u0439\", \"\\u0433\\u043b\\u0430\\u0432\\u043d\\u043e\\u0435\", \"\\u0433\\u043b\\u0430\\u0437\", \"\\u0433\\u043e\\u0432\\u043e\\u0440\\u0438\\u0442\\u044c\", \"\\u0433\\u043e\\u0434\", \"\\u0433\\u043e\\u043b\\u043e\\u0432\\u0430\", \"\\u0433\\u043e\\u0440\\u043e\\u0434\", \"\\u0433\\u043e\\u0442\\u043e\\u0432\\u0438\\u0442\\u044c\", \"\\u0433\\u0443\\u043b\\u044f\\u0442\\u044c\", \"\\u0434\\u0430\\u0432\\u0430\\u0442\\u044c\", \"\\u0434\\u0430\\u0432\\u043d\\u043e\", \"\\u0434\\u0430\\u0442\\u044c\", \"\\u0434\\u0435\\u0432\\u043e\\u0447\\u043a\\u0430\", \"\\u0434\\u0435\\u043b\\u0430\\u0442\\u044c\", \"\\u0434\\u0435\\u043b\\u043e\", \"\\u0434\\u0435\\u043d\\u044c\", \"\\u0434\\u0435\\u043d\\u044c\\u0433\\u0430\", \"\\u0434\\u043e\\u0431\\u0440\\u043e\", \"\\u0434\\u043e\\u0431\\u0440\\u044b\\u0439\", \"\\u0434\\u043e\\u043b\\u0433\\u043e\", \"\\u0434\\u043e\\u043b\\u0436\\u043d\\u044b\\u0439\", \"\\u0434\\u043e\\u043c\", \"\\u0434\\u043e\\u043c\\u043e\\u0439\", \"\\u0434\\u0440\\u0443\\u0433\", \"\\u0434\\u0443\\u043c\\u0430\\u0442\\u044c\", \"\\u0434\\u0443\\u0448\\u0430\", \"\\u0435\\u0434\\u0430\", \"\\u0435\\u0445\\u0430\\u0442\\u044c\", \"\\u0435\\u0449\\u0451\", \"\\u0436\\u0430\\u043b\\u044c\", \"\\u0436\\u0434\\u0430\\u0442\\u044c\", \"\\u0436\\u0435\\u043b\\u0430\\u043d\\u0438\\u0435\", \"\\u0436\\u0435\\u043d\\u0449\\u0438\\u043d\\u0430\", \"\\u0436\\u0438\\u0437\\u043d\\u044c\", \"\\u0436\\u0438\\u0442\\u044c\", \"\\u0437\\u0430\\u0431\\u044b\\u0442\\u044c\", \"\\u0437\\u0430\\u0432\\u0442\\u0440\\u0430\", \"\\u0437\\u0430\\u0439\\u0442\\u0438\", \"\\u0437\\u0430\\u043a\\u043e\\u043d\\u0447\\u0438\\u0442\\u044c\\u0441\\u044f\", \"\\u0437\\u0430\\u0442\\u043e\", \"\\u0437\\u0432\\u0430\\u0442\\u044c\", \"\\u0437\\u0438\\u043c\\u0430\", \"\\u0437\\u043d\\u0430\\u0442\\u044c\", \"\\u0438\\u0433\\u0440\\u0430\", \"\\u0438\\u0433\\u0440\\u0430\\u0442\\u044c\", \"\\u0438\\u0434\\u0442\\u0438\", \"\\u0438\\u043c\\u0435\\u043d\\u043d\\u043e\", \"\\u0438\\u043d\\u0442\\u0435\\u0440\\u0435\\u0441\\u043d\\u043e\", \"\\u0438\\u043d\\u0442\\u0435\\u0440\\u0435\\u0441\\u043d\\u044b\\u0439\", \"\\u0438\\u0441\\u043a\\u0430\\u0442\\u044c\", \"\\u0438\\u0441\\u0442\\u043e\\u0440\\u0438\\u044f\", \"\\u043a\\u0430\\u0436\\u0434\\u044b\\u0439\", \"\\u043a\\u0430\\u0437\\u0430\\u0442\\u044c\\u0441\\u044f\", \"\\u043a\\u0430\\u043d\\u0438\\u043a\\u0443\\u043b\\u044b\", \"\\u043a\\u0430\\u043f\\u0435\\u0446\", \"\\u043a\\u043b\\u0430\\u0441\\u0441\", \"\\u043a\\u043e\\u0442\", \"\\u043a\\u043e\\u0442\\u043e\\u0440\\u044b\\u0439\", \"\\u043a\\u0440\\u0430\\u0441\\u0438\\u0432\\u044b\\u0439\", \"\\u043a\\u0440\\u0443\\u0442\\u043e\", \"\\u043a\\u0440\\u0443\\u0442\\u043e\\u0439\", \"\\u043a\\u0441\\u0442\\u0430\\u0442\\u0438\", \"\\u043a\\u0443\\u043f\\u0438\\u0442\\u044c\", \"\\u043b\\u0430\\u0434\\u043d\\u044b\\u0439\", \"\\u043b\\u0435\\u043d\\u0442\\u0430\", \"\\u043b\\u044e\\u0431\\u0438\\u043c\\u044b\\u0439\", \"\\u043b\\u044e\\u0431\\u0438\\u0442\\u044c\", \"\\u043b\\u044e\\u0431\\u043e\\u0432\\u044c\", \"\\u043b\\u0451\\u0433\\u043a\\u0438\\u0439\", \"\\u043c\\u0430\\u043b\\u0435\\u043d\\u044c\\u043a\\u0438\\u0439\", \"\\u043c\\u0430\\u043b\\u044c\\u0447\\u0438\\u043a\", \"\\u043c\\u0430\\u043c\\u0430\", \"\\u043c\\u0435\\u0441\\u0442\\u043e\", \"\\u043c\\u0435\\u0441\\u044f\\u0446\", \"\\u043c\\u0438\\u043b\\u044b\\u0439\", \"\\u043c\\u0438\\u043d\\u0443\\u0442\\u0430\", \"\\u043c\\u0438\\u0440\", \"\\u043c\\u043e\\u0437\\u0433\", \"\\u043c\\u043e\\u043c\\u0435\\u043d\\u0442\", \"\\u043c\\u043e\\u0441\\u043a\\u0432\\u0430\", \"\\u043c\\u043e\\u0447\\u044c\", \"\\u043c\\u0443\\u0436\\u0438\\u043a\", \"\\u043c\\u0443\\u0437\\u044b\\u043a\\u0430\", \"\\u043c\\u044b\\u0441\\u043b\\u044c\", \"\\u043d\\u0430\\u0432\\u0435\\u0440\\u043d\\u043e\\u0435\", \"\\u043d\\u0430\\u0434\\u0435\\u044f\\u0442\\u044c\\u0441\\u044f\", \"\\u043d\\u0430\\u0439\\u0442\\u0438\", \"\\u043d\\u0430\\u043f\\u0438\\u0441\\u0430\\u0442\\u044c\", \"\\u043d\\u0430\\u0441\\u0442\\u0440\\u043e\\u0435\\u043d\\u0438\\u0435\", \"\\u043d\\u0430\\u0447\\u0430\\u043b\\u043e\", \"\\u043d\\u0430\\u0447\\u0430\\u0442\\u044c\", \"\\u043d\\u0430\\u0447\\u0438\\u043d\\u0430\\u0442\\u044c\", \"\\u043d\\u0430\\u0448\", \"\\u043d\\u0435\\u0434\\u0435\\u043b\\u044f\", \"\\u043d\\u0435\\u043c\\u043d\\u043e\\u0433\\u043e\", \"\\u043d\\u0435\\u043d\\u0430\\u0432\\u0438\\u0434\\u0435\\u0442\\u044c\", \"\\u043d\\u0435\\u0442\\u0443\", \"\\u043d\\u0438\\u0431\\u044b\\u0442\\u044c\", \"\\u043d\\u0438\\u043a\\u0430\\u043a\", \"\\u043d\\u0438\\u043a\\u0442\\u043e\", \"\\u043d\\u043e\\u0432\\u043e\\u0433\\u043e\\u0434\\u043d\\u0438\\u0439\", \"\\u043d\\u043e\\u0432\\u044b\\u0439\", \"\\u043d\\u043e\\u0433\\u0430\", \"\\u043d\\u043e\\u0440\\u043c\\u0430\", \"\\u043d\\u043e\\u0440\\u043c\\u0430\\u043b\\u044c\\u043d\\u043e\", \"\\u043d\\u043e\\u0440\\u043c\\u0430\\u043b\\u044c\\u043d\\u044b\\u0439\", \"\\u043d\\u043e\\u0447\\u044c\", \"\\u043d\\u0440\\u0430\\u0432\\u0438\\u0442\\u044c\\u0441\\u044f\", \"\\u043d\\u0443\\u0436\\u043d\\u043e\", \"\\u043d\\u0443\\u0436\\u043d\\u044b\\u0439\", \"\\u043e\\u0431\\u0438\\u0434\\u043d\\u043e\", \"\\u043e\\u0431\\u043e\\u0436\\u0430\\u0442\\u044c\", \"\\u043e\\u0431\\u0449\\u0430\\u0442\\u044c\\u0441\\u044f\", \"\\u043e\\u043a\\u043d\\u043e\", \"\\u043e\\u043d\\u043e\", \"\\u043e\\u0441\\u0442\\u0430\\u0442\\u044c\\u0441\\u044f\", \"\\u043e\\u0442\\u0432\\u0435\\u0447\\u0430\\u0442\\u044c\", \"\\u043e\\u0447\\u0435\\u043d\\u044c\", \"\\u043f\\u0430\\u043f\\u0430\", \"\\u043f\\u0430\\u0440\\u0430\", \"\\u043f\\u0430\\u0440\\u0435\\u043d\\u044c\", \"\\u043f\\u0435\\u0440\\u0432\\u044b\\u0439\", \"\\u043f\\u0435\\u0441\\u043d\\u044f\", \"\\u043f\\u0438\\u0441\\u0430\\u0442\\u044c\", \"\\u043f\\u0438\\u0442\\u044c\", \"\\u043f\\u043b\\u0430\\u043d\", \"\\u043f\\u043b\\u043e\\u0445\\u043e\", \"\\u043f\\u043b\\u043e\\u0445\\u043e\\u0439\", \"\\u043f\\u043e\\u0435\\u0445\\u0430\\u0442\\u044c\", \"\\u043f\\u043e\\u0436\\u0430\\u043b\\u0443\\u0439\\u0441\\u0442\\u0430\", \"\\u043f\\u043e\\u0439\\u0442\\u0438\", \"\\u043f\\u043e\\u043a\\u0430\", \"\\u043f\\u043e\\u043b\\u0443\\u0447\\u0430\\u0442\\u044c\\u0441\\u044f\", \"\\u043f\\u043e\\u043b\\u0443\\u0447\\u0438\\u0442\\u044c\", \"\\u043f\\u043e\\u043b\\u0443\\u0447\\u0438\\u0442\\u044c\\u0441\\u044f\", \"\\u043f\\u043e\\u043c\\u043d\\u0438\\u0442\\u044c\", \"\\u043f\\u043e\\u043c\\u043e\\u0447\\u044c\", \"\\u043f\\u043e\\u043d\\u0438\\u043c\\u0430\\u0442\\u044c\", \"\\u043f\\u043e\\u043d\\u0440\\u0430\\u0432\\u0438\\u0442\\u044c\\u0441\\u044f\", \"\\u043f\\u043e\\u043d\\u044f\\u0442\\u044c\", \"\\u043f\\u043e\\u043f\\u0430\\u0441\\u0442\\u044c\", \"\\u043f\\u043e\\u0440\\u0430\", \"\\u043f\\u043e\\u0441\\u043b\\u0435\\u0434\\u043d\\u0438\\u0439\", \"\\u043f\\u043e\\u0441\\u043c\\u043e\\u0442\\u0440\\u0435\\u0442\\u044c\", \"\\u043f\\u043e\\u0441\\u0442\\u0430\\u0432\\u0438\\u0442\\u044c\", \"\\u043f\\u043e\\u0445\\u043e\\u0434\", \"\\u043f\\u043e\\u0447\\u0435\\u043c\\u0443\", \"\\u043f\\u0440\\u0430\\u0432\\u0434\\u0430\", \"\\u043f\\u0440\\u0430\\u0437\\u0434\\u043d\\u0438\\u043a\", \"\\u043f\\u0440\\u0438\\u0432\\u0435\\u0442\", \"\\u043f\\u0440\\u0438\\u0435\\u0445\\u0430\\u0442\\u044c\", \"\\u043f\\u0440\\u0438\\u0439\\u0442\\u0438\", \"\\u043f\\u0440\\u0438\\u0439\\u0442\\u0438\\u0441\\u044c\", \"\\u043f\\u0440\\u0438\\u0445\\u043e\\u0434\\u0438\\u0442\\u044c\", \"\\u043f\\u0440\\u0438\\u044f\\u0442\\u043d\\u043e\", \"\\u043f\\u0440\\u043e\\u0432\\u0435\\u0441\\u0442\\u0438\", \"\\u043f\\u0440\\u043e\\u0439\\u0442\\u0438\", \"\\u043f\\u0440\\u043e\\u0441\\u0438\\u0442\\u044c\", \"\\u043f\\u0440\\u043e\\u0441\\u043d\\u0443\\u0442\\u044c\\u0441\\u044f\", \"\\u043f\\u0440\\u043e\\u0441\\u0442\\u0438\\u0442\\u044c\", \"\\u043f\\u0440\\u043e\\u0441\\u0442\\u043e\", \"\\u043f\\u0440\\u044f\\u043c\", \"\\u043f\\u0443\\u0441\\u0442\\u044c\", \"\\u0440\\u0430\\u0431\\u043e\\u0442\\u0430\", \"\\u0440\\u0430\\u0431\\u043e\\u0442\\u0430\\u0442\\u044c\", \"\\u0440\\u0430\\u0432\\u043d\\u043e\", \"\\u0440\\u0430\\u0434\\u043e\\u0432\\u0430\\u0442\\u044c\", \"\\u0440\\u0430\\u043d\\u043d\\u0438\\u0439\", \"\\u0440\\u0435\\u0430\\u043b\\u044c\\u043d\\u043e\", \"\\u0440\\u0435\\u0431\\u044f\\u0442\\u0430\", \"\\u0440\\u0435\\u0431\\u0451\\u043d\\u043e\\u043a\", \"\\u0440\\u0435\\u0448\\u0438\\u0442\\u044c\", \"\\u0440\\u043e\\u0434\\u043d\\u044b\\u0439\", \"\\u0440\\u043e\\u0436\\u0434\\u0435\\u043d\\u0438\\u0435\", \"\\u0440\\u0443\\u043a\\u0430\", \"\\u0440\\u0443\\u0441\\u0441\\u043a\\u0438\\u0439\", \"\\u0441\\u0430\\u043c\\u044b\\u0439\", \"\\u0441\\u0432\\u043e\\u0439\", \"\\u0441\\u0434\\u0435\\u043b\\u0430\\u0442\\u044c\", \"\\u0441\\u0435\\u0433\\u043e\\u0434\\u043d\\u044f\", \"\\u0441\\u0435\\u0440\\u0438\\u0430\\u043b\", \"\\u0441\\u0435\\u0440\\u0438\\u044f\", \"\\u0441\\u0435\\u0441\\u0441\\u0438\\u044f\", \"\\u0441\\u0438\\u0434\\u0435\\u0442\\u044c\", \"\\u0441\\u043a\\u0430\\u0437\\u0430\\u0442\\u044c\", \"\\u0441\\u043a\\u0438\\u043d\\u0443\\u0442\\u044c\", \"\\u0441\\u043a\\u043e\\u043b\\u044c\\u043a\\u043e\", \"\\u0441\\u043a\\u043e\\u0440\\u0435\\u0435\", \"\\u0441\\u043a\\u043e\\u0440\\u043e\", \"\\u0441\\u043a\\u0443\\u0447\\u0430\\u0442\\u044c\", \"\\u0441\\u043a\\u0443\\u0447\\u043d\\u043e\", \"\\u0441\\u043b\\u0438\\u0448\\u043a\\u043e\\u043c\", \"\\u0441\\u043b\\u043e\\u0432\\u043e\", \"\\u0441\\u043c\\u0435\\u044f\\u0442\\u044c\\u0441\\u044f\", \"\\u0441\\u043c\\u043e\\u0442\\u0440\\u0435\\u0442\\u044c\", \"\\u0441\\u043c\\u043e\\u0447\\u044c\", \"\\u0441\\u043d\\u0430\\u0447\\u0430\\u043b\\u0430\", \"\\u0441\\u043d\\u0435\\u0433\", \"\\u0441\\u043d\\u043e\\u0432\\u0430\", \"\\u0441\\u043e\\u0431\\u0438\\u0440\\u0430\\u0442\\u044c\\u0441\\u044f\", \"\\u0441\\u043e\\u0436\\u0430\\u043b\\u0435\\u043d\\u0438\\u0435\", \"\\u0441\\u043e\\u043d\", \"\\u0441\\u043f\\u0430\\u0441\\u0438\\u0431\\u043e\", \"\\u0441\\u043f\\u0430\\u0442\\u044c\", \"\\u0441\\u0440\\u0430\\u0437\\u0443\", \"\\u0441\\u0442\\u0430\\u0440\\u044b\\u0439\", \"\\u0441\\u0442\\u0430\\u0442\\u044c\", \"\\u0441\\u0442\\u043e\\u0438\\u0442\\u044c\", \"\\u0441\\u0442\\u043e\\u043b\\u044c\\u043a\\u043e\", \"\\u0441\\u0443\\u0431\\u0431\\u043e\\u0442\\u0430\", \"\\u0441\\u0443\\u043a\\u0430\", \"\\u0441\\u0445\\u043e\\u0434\\u0438\\u0442\\u044c\", \"\\u0441\\u0447\\u0430\\u0441\\u0442\\u0438\\u0435\", \"\\u0441\\u0447\\u0430\\u0441\\u0442\\u043b\\u0438\\u0432\\u044b\\u0439\", \"\\u0441\\u044a\\u0435\\u0441\\u0442\\u044c\", \"\\u0442\\u0430\\u043a\\u0438\", \"\\u0442\\u0432\\u0438\", \"\\u0442\\u0432\\u0438\\u0442\", \"\\u0442\\u0432\\u0438\\u0442\\u0442\\u0435\\u0440\", \"\\u0442\\u0432\\u043e\\u0439\", \"\\u0442\\u0435\\u043b\\u0435\\u0444\\u043e\\u043d\", \"\\u0442\\u0435\\u043c\\u0430\", \"\\u0442\\u0438\\u043f\", \"\\u0442\\u043e\\u0447\\u043d\\u043e\", \"\\u0443\\u0432\\u0438\\u0434\\u0435\\u0442\\u044c\", \"\\u0443\\u0434\\u0430\\u0447\\u0430\", \"\\u0443\\u0436\\u0430\\u0441\\u043d\\u043e\", \"\\u0443\\u0436\\u0430\\u0441\\u043d\\u044b\\u0439\", \"\\u0443\\u0437\\u043d\\u0430\\u0442\\u044c\", \"\\u0443\\u0439\\u0442\\u0438\", \"\\u0443\\u043b\\u0438\\u0446\\u0430\", \"\\u0443\\u043c\\u0435\\u0440\\u0435\\u0442\\u044c\", \"\\u0443\\u0440\\u043e\\u043a\", \"\\u0443\\u0441\\u043f\\u0435\\u0442\\u044c\", \"\\u0443\\u0442\\u0440\\u043e\", \"\\u0443\\u0447\\u0438\\u0442\\u044c\", \"\\u0443\\u0447\\u0438\\u0442\\u044c\\u0441\\u044f\", \"\\u0444\\u0438\\u043b\\u044c\\u043c\", \"\\u0444\\u043e\\u0442\\u043a\\u0430\", \"\\u0444\\u043e\\u0442\\u043e\", \"\\u0445\\u0432\\u0430\\u0442\\u0430\\u0442\\u044c\", \"\\u0445\\u043e\\u0434\\u0438\\u0442\\u044c\", \"\\u0445\\u043e\\u043b\\u043e\\u0434\\u043d\\u043e\", \"\\u0445\\u043e\\u0440\\u043e\\u0448\\u0438\\u0439\", \"\\u0445\\u043e\\u0442\\u0435\\u0442\\u044c\", \"\\u0445\\u043e\\u0442\\u0435\\u0442\\u044c\\u0441\\u044f\", \"\\u0445\\u043e\\u0442\\u044f\", \"\\u0447\\u0430\\u0439\", \"\\u0447\\u0430\\u0441\", \"\\u0447\\u0435\\u043b\\u043e\\u0432\\u0435\\u043a\", \"\\u0447\\u0438\\u0441\\u043b\\u043e\", \"\\u0447\\u0438\\u0442\\u0430\\u0442\\u044c\", \"\\u0447\\u0443\\u0432\\u0441\\u0442\\u0432\\u043e\", \"\\u0447\\u0443\\u0432\\u0441\\u0442\\u0432\\u043e\\u0432\\u0430\\u0442\\u044c\", \"\\u0447\\u0451\\u0440\\u043d\\u044b\\u0439\", \"\\u0448\\u043a\\u043e\\u043b\\u0430\", \"\\u044d\\u043a\\u0437\\u0430\\u043c\\u0435\\u043d\", \"\\u044d\\u0442\\u043e\", \"\\u044f\\u043d\\u0432\\u0430\\u0440\\u044c\", \"\\u0451\\u043b\\u043a\\u0430\"]}, \"R\": 30, \"lambda.step\": 0.01, \"plot.opts\": {\"xlab\": \"PC1\", \"ylab\": \"PC2\"}, \"topic.order\": [4, 5, 10, 6, 3, 2, 7, 1, 8, 9]};\n",
              "\n",
              "function LDAvis_load_lib(url, callback){\n",
              "  var s = document.createElement('script');\n",
              "  s.src = url;\n",
              "  s.async = true;\n",
              "  s.onreadystatechange = s.onload = callback;\n",
              "  s.onerror = function(){console.warn(\"failed to load library \" + url);};\n",
              "  document.getElementsByTagName(\"head\")[0].appendChild(s);\n",
              "}\n",
              "\n",
              "if(typeof(LDAvis) !== \"undefined\"){\n",
              "   // already loaded: just create the visualization\n",
              "   !function(LDAvis){\n",
              "       new LDAvis(\"#\" + \"ldavis_el1072422149600031363136456504\", ldavis_el1072422149600031363136456504_data);\n",
              "   }(LDAvis);\n",
              "}else if(typeof define === \"function\" && define.amd){\n",
              "   // require.js is available: use it to load d3/LDAvis\n",
              "   require.config({paths: {d3: \"https://d3js.org/d3.v5\"}});\n",
              "   require([\"d3\"], function(d3){\n",
              "      window.d3 = d3;\n",
              "      LDAvis_load_lib(\"https://cdn.jsdelivr.net/gh/bmabey/pyLDAvis@3.4.0/pyLDAvis/js/ldavis.v3.0.0.js\", function(){\n",
              "        new LDAvis(\"#\" + \"ldavis_el1072422149600031363136456504\", ldavis_el1072422149600031363136456504_data);\n",
              "      });\n",
              "    });\n",
              "}else{\n",
              "    // require.js not available: dynamically load d3 & LDAvis\n",
              "    LDAvis_load_lib(\"https://d3js.org/d3.v5.js\", function(){\n",
              "         LDAvis_load_lib(\"https://cdn.jsdelivr.net/gh/bmabey/pyLDAvis@3.4.0/pyLDAvis/js/ldavis.v3.0.0.js\", function(){\n",
              "                 new LDAvis(\"#\" + \"ldavis_el1072422149600031363136456504\", ldavis_el1072422149600031363136456504_data);\n",
              "            })\n",
              "         });\n",
              "}\n",
              "</script>"
            ],
            "text/plain": [
              "<IPython.core.display.HTML object>"
            ]
          },
          "execution_count": 34,
          "metadata": {},
          "output_type": "execute_result"
        }
      ],
      "source": [
        "pyLDAvis.display(vis_data)"
      ]
    },
    {
      "cell_type": "code",
      "execution_count": 35,
      "metadata": {
        "colab": {
          "base_uri": "https://localhost:8080/"
        },
        "id": "ZotOH4d6f6Mr",
        "outputId": "347c2c8b-6dc0-452a-e1f1-631f04e07942"
      },
      "outputs": [
        {
          "name": "stdout",
          "output_type": "stream",
          "text": [
            "-8.670957646936897\n"
          ]
        }
      ],
      "source": [
        "print(lda.log_perplexity(corpus))\n"
      ]
    },
    {
      "cell_type": "code",
      "execution_count": 36,
      "metadata": {
        "colab": {
          "base_uri": "https://localhost:8080/"
        },
        "id": "VqyxqodWf6Mr",
        "outputId": "957cc9c2-0b76-49fe-a92d-ab14d462d726"
      },
      "outputs": [
        {
          "name": "stdout",
          "output_type": "stream",
          "text": [
            "Персплексия:  0.00017149843047604076\n"
          ]
        }
      ],
      "source": [
        "print('Персплексия: ', np.exp(lda.log_perplexity(corpus)))"
      ]
    },
    {
      "cell_type": "code",
      "execution_count": 37,
      "metadata": {
        "colab": {
          "base_uri": "https://localhost:8080/"
        },
        "id": "agpzf-CVf6Mr",
        "outputId": "5338d2ba-ec1b-42f5-c69d-8dd50970895a"
      },
      "outputs": [
        {
          "name": "stdout",
          "output_type": "stream",
          "text": [
            "Средняя когерентность:  0.206868359208869\n"
          ]
        }
      ],
      "source": [
        "coherence_model_lda = CoherenceModel(model=lda, texts=data['text'], dictionary=dictionary, coherence='c_v')\n",
        "coherence_lda = coherence_model_lda.get_coherence()\n",
        "print('Средняя когерентность: ', coherence_lda)"
      ]
    },
    {
      "cell_type": "code",
      "execution_count": 38,
      "metadata": {
        "colab": {
          "base_uri": "https://localhost:8080/"
        },
        "id": "UZBPpBxYf6Mr",
        "outputId": "cf7a9f6b-d6fb-4019-8d4c-5904bbdbe25a"
      },
      "outputs": [],
      "source": [
        "import matplotlib.pyplot as plt\n",
        "%matplotlib inline"
      ]
    },
    {
      "cell_type": "code",
      "execution_count": 39,
      "metadata": {
        "colab": {
          "base_uri": "https://localhost:8080/",
          "height": 536,
          "referenced_widgets": [
            "a8a299aed6ee470185f6e901774b980f",
            "d9647b854d22475bb90ecb31d40a5196",
            "1b2d254f1ca14708a875752c2c7989d3",
            "81165c4856f34cb9ac77bbff4306c438",
            "d57174a3b84545ecb7486f59aac86860",
            "217352fcd9c243c8becdecefe2f01f50",
            "f48d50108c6543f3b1db17ef25a6f445",
            "cdf14ef5e2764aae85cb49be7eebb904",
            "64d1efc906e6498e9941e0c9e6a18e7e",
            "d2b2055ced8f41ab88a8a7cbe6740d4b",
            "6760ce5006414ebb8e09fc03c0bdd8bb"
          ]
        },
        "id": "q7dUj8ClSOvg",
        "outputId": "25acc209-9c57-4207-fb9d-d6d3bbc9c2f8"
      },
      "outputs": [
        {
          "data": {
            "application/vnd.jupyter.widget-view+json": {
              "model_id": "70d5c7fe77834d998ee32d7feaee4a93",
              "version_major": 2,
              "version_minor": 0
            },
            "text/plain": [
              "  0%|          | 0/3 [00:00<?, ?it/s]"
            ]
          },
          "metadata": {},
          "output_type": "display_data"
        },
        {
          "data": {
            "image/png": "[encoded data removed]",
            "text/plain": [
              "<Figure size 640x480 with 1 Axes>"
            ]
          },
          "metadata": {},
          "output_type": "display_data"
        }
      ],
      "source": [
        "topics_list = [5, 10, 15]\n",
        "coherences = []\n",
        "\n",
        "for num in tqdm(topics_list):\n",
        "    lda = ldamodel.LdaModel(corpus, id2word=dictionary, num_topics=num, chunksize=50, update_every=1, passes=2)\n",
        "    coherences.append(CoherenceModel(model=lda, texts=data['text'], dictionary=dictionary, coherence='c_v').get_coherence())\n",
        "\n",
        "plt.plot(topics_list, coherences)\n",
        "plt.xlabel(\"Число тем\")\n",
        "plt.ylabel(\"Средняя когерентность\")\n",
        "plt.show()"
      ]
    }
  ],
  "metadata": {
    "colab": {
      "collapsed_sections": [
        "oy0GNiJ4jbWZ"
      ],
      "provenance": []
    },
    "kernelspec": {
      "display_name": "Python 3",
      "language": "python",
      "name": "python3"
    },
    "language_info": {
      "codemirror_mode": {
        "name": "ipython",
        "version": 3
      },
      "file_extension": ".py",
      "mimetype": "text/x-python",
      "name": "python",
      "nbconvert_exporter": "python",
      "pygments_lexer": "ipython3",
      "version": "3.10.10"
    },
    "widgets": {
      "application/vnd.jupyter.widget-state+json": {
        "0548d44f4dac4db2810053314b04e160": {
          "model_module": "@jupyter-widgets/base",
          "model_module_version": "1.2.0",
          "model_name": "LayoutModel",
          "state": {
            "_model_module": "@jupyter-widgets/base",
            "_model_module_version": "1.2.0",
            "_model_name": "LayoutModel",
            "_view_count": null,
            "_view_module": "@jupyter-widgets/base",
            "_view_module_version": "1.2.0",
            "_view_name": "LayoutView",
            "align_content": null,
            "align_items": null,
            "align_self": null,
            "border": null,
            "bottom": null,
            "display": null,
            "flex": null,
            "flex_flow": null,
            "grid_area": null,
            "grid_auto_columns": null,
            "grid_auto_flow": null,
            "grid_auto_rows": null,
            "grid_column": null,
            "grid_gap": null,
            "grid_row": null,
            "grid_template_areas": null,
            "grid_template_columns": null,
            "grid_template_rows": null,
            "height": null,
            "justify_content": null,
            "justify_items": null,
            "left": null,
            "margin": null,
            "max_height": null,
            "max_width": null,
            "min_height": null,
            "min_width": null,
            "object_fit": null,
            "object_position": null,
            "order": null,
            "overflow": null,
            "overflow_x": null,
            "overflow_y": null,
            "padding": null,
            "right": null,
            "top": null,
            "visibility": null,
            "width": null
          }
        },
        "17856cba6e4640a2a202837b71cde9ac": {
          "model_module": "@jupyter-widgets/controls",
          "model_module_version": "1.5.0",
          "model_name": "HTMLModel",
          "state": {
            "_dom_classes": [],
            "_model_module": "@jupyter-widgets/controls",
            "_model_module_version": "1.5.0",
            "_model_name": "HTMLModel",
            "_view_count": null,
            "_view_module": "@jupyter-widgets/controls",
            "_view_module_version": "1.5.0",
            "_view_name": "HTMLView",
            "description": "",
            "description_tooltip": null,
            "layout": "IPY_MODEL_e6dd3e004ac249739e076eff15319e8f",
            "placeholder": "​",
            "style": "IPY_MODEL_c7b647704ecb4606a1fa5fd4266e002b",
            "value": "100%"
          }
        },
        "1a4ceabe0ebe41ffbc9dd00a51ca7b1c": {
          "model_module": "@jupyter-widgets/controls",
          "model_module_version": "1.5.0",
          "model_name": "DescriptionStyleModel",
          "state": {
            "_model_module": "@jupyter-widgets/controls",
            "_model_module_version": "1.5.0",
            "_model_name": "DescriptionStyleModel",
            "_view_count": null,
            "_view_module": "@jupyter-widgets/base",
            "_view_module_version": "1.2.0",
            "_view_name": "StyleView",
            "description_width": ""
          }
        },
        "1b2d254f1ca14708a875752c2c7989d3": {
          "model_module": "@jupyter-widgets/controls",
          "model_module_version": "1.5.0",
          "model_name": "FloatProgressModel",
          "state": {
            "_dom_classes": [],
            "_model_module": "@jupyter-widgets/controls",
            "_model_module_version": "1.5.0",
            "_model_name": "FloatProgressModel",
            "_view_count": null,
            "_view_module": "@jupyter-widgets/controls",
            "_view_module_version": "1.5.0",
            "_view_name": "ProgressView",
            "bar_style": "success",
            "description": "",
            "description_tooltip": null,
            "layout": "IPY_MODEL_cdf14ef5e2764aae85cb49be7eebb904",
            "max": 3,
            "min": 0,
            "orientation": "horizontal",
            "style": "IPY_MODEL_64d1efc906e6498e9941e0c9e6a18e7e",
            "value": 3
          }
        },
        "217352fcd9c243c8becdecefe2f01f50": {
          "model_module": "@jupyter-widgets/base",
          "model_module_version": "1.2.0",
          "model_name": "LayoutModel",
          "state": {
            "_model_module": "@jupyter-widgets/base",
            "_model_module_version": "1.2.0",
            "_model_name": "LayoutModel",
            "_view_count": null,
            "_view_module": "@jupyter-widgets/base",
            "_view_module_version": "1.2.0",
            "_view_name": "LayoutView",
            "align_content": null,
            "align_items": null,
            "align_self": null,
            "border": null,
            "bottom": null,
            "display": null,
            "flex": null,
            "flex_flow": null,
            "grid_area": null,
            "grid_auto_columns": null,
            "grid_auto_flow": null,
            "grid_auto_rows": null,
            "grid_column": null,
            "grid_gap": null,
            "grid_row": null,
            "grid_template_areas": null,
            "grid_template_columns": null,
            "grid_template_rows": null,
            "height": null,
            "justify_content": null,
            "justify_items": null,
            "left": null,
            "margin": null,
            "max_height": null,
            "max_width": null,
            "min_height": null,
            "min_width": null,
            "object_fit": null,
            "object_position": null,
            "order": null,
            "overflow": null,
            "overflow_x": null,
            "overflow_y": null,
            "padding": null,
            "right": null,
            "top": null,
            "visibility": null,
            "width": null
          }
        },
        "225a4c6be39944deb3f295b0cb9a6297": {
          "model_module": "@jupyter-widgets/controls",
          "model_module_version": "1.5.0",
          "model_name": "FloatProgressModel",
          "state": {
            "_dom_classes": [],
            "_model_module": "@jupyter-widgets/controls",
            "_model_module_version": "1.5.0",
            "_model_name": "FloatProgressModel",
            "_view_count": null,
            "_view_module": "@jupyter-widgets/controls",
            "_view_module_version": "1.5.0",
            "_view_name": "ProgressView",
            "bar_style": "success",
            "description": "",
            "description_tooltip": null,
            "layout": "IPY_MODEL_bf5c6cf80b8e4b3ba98ca577ae65afd9",
            "max": 100000,
            "min": 0,
            "orientation": "horizontal",
            "style": "IPY_MODEL_bd4882b58e7646a1a5bbf7ff392625f7",
            "value": 100000
          }
        },
        "436954001c3540ea80d77c296b15d330": {
          "model_module": "@jupyter-widgets/base",
          "model_module_version": "1.2.0",
          "model_name": "LayoutModel",
          "state": {
            "_model_module": "@jupyter-widgets/base",
            "_model_module_version": "1.2.0",
            "_model_name": "LayoutModel",
            "_view_count": null,
            "_view_module": "@jupyter-widgets/base",
            "_view_module_version": "1.2.0",
            "_view_name": "LayoutView",
            "align_content": null,
            "align_items": null,
            "align_self": null,
            "border": null,
            "bottom": null,
            "display": null,
            "flex": null,
            "flex_flow": null,
            "grid_area": null,
            "grid_auto_columns": null,
            "grid_auto_flow": null,
            "grid_auto_rows": null,
            "grid_column": null,
            "grid_gap": null,
            "grid_row": null,
            "grid_template_areas": null,
            "grid_template_columns": null,
            "grid_template_rows": null,
            "height": null,
            "justify_content": null,
            "justify_items": null,
            "left": null,
            "margin": null,
            "max_height": null,
            "max_width": null,
            "min_height": null,
            "min_width": null,
            "object_fit": null,
            "object_position": null,
            "order": null,
            "overflow": null,
            "overflow_x": null,
            "overflow_y": null,
            "padding": null,
            "right": null,
            "top": null,
            "visibility": null,
            "width": null
          }
        },
        "46e6b8478ac0486b9e1c84b6b158887f": {
          "model_module": "@jupyter-widgets/controls",
          "model_module_version": "1.5.0",
          "model_name": "DescriptionStyleModel",
          "state": {
            "_model_module": "@jupyter-widgets/controls",
            "_model_module_version": "1.5.0",
            "_model_name": "DescriptionStyleModel",
            "_view_count": null,
            "_view_module": "@jupyter-widgets/base",
            "_view_module_version": "1.2.0",
            "_view_name": "StyleView",
            "description_width": ""
          }
        },
        "46f395c55bd947c78da06bcb3d7b88b7": {
          "model_module": "@jupyter-widgets/base",
          "model_module_version": "1.2.0",
          "model_name": "LayoutModel",
          "state": {
            "_model_module": "@jupyter-widgets/base",
            "_model_module_version": "1.2.0",
            "_model_name": "LayoutModel",
            "_view_count": null,
            "_view_module": "@jupyter-widgets/base",
            "_view_module_version": "1.2.0",
            "_view_name": "LayoutView",
            "align_content": null,
            "align_items": null,
            "align_self": null,
            "border": null,
            "bottom": null,
            "display": null,
            "flex": null,
            "flex_flow": null,
            "grid_area": null,
            "grid_auto_columns": null,
            "grid_auto_flow": null,
            "grid_auto_rows": null,
            "grid_column": null,
            "grid_gap": null,
            "grid_row": null,
            "grid_template_areas": null,
            "grid_template_columns": null,
            "grid_template_rows": null,
            "height": null,
            "justify_content": null,
            "justify_items": null,
            "left": null,
            "margin": null,
            "max_height": null,
            "max_width": null,
            "min_height": null,
            "min_width": null,
            "object_fit": null,
            "object_position": null,
            "order": null,
            "overflow": null,
            "overflow_x": null,
            "overflow_y": null,
            "padding": null,
            "right": null,
            "top": null,
            "visibility": null,
            "width": null
          }
        },
        "4ac1417a847946fca8b82c4b3ebb36bd": {
          "model_module": "@jupyter-widgets/controls",
          "model_module_version": "1.5.0",
          "model_name": "HBoxModel",
          "state": {
            "_dom_classes": [],
            "_model_module": "@jupyter-widgets/controls",
            "_model_module_version": "1.5.0",
            "_model_name": "HBoxModel",
            "_view_count": null,
            "_view_module": "@jupyter-widgets/controls",
            "_view_module_version": "1.5.0",
            "_view_name": "HBoxView",
            "box_style": "",
            "children": [
              "IPY_MODEL_17856cba6e4640a2a202837b71cde9ac",
              "IPY_MODEL_af016c354f1c4725a46fbf2167b6e6be",
              "IPY_MODEL_4d065c143e1f48be8af11c949c1a0bc0"
            ],
            "layout": "IPY_MODEL_f197a8e837bb4fdfaf6ac881ae65a793"
          }
        },
        "4d065c143e1f48be8af11c949c1a0bc0": {
          "model_module": "@jupyter-widgets/controls",
          "model_module_version": "1.5.0",
          "model_name": "HTMLModel",
          "state": {
            "_dom_classes": [],
            "_model_module": "@jupyter-widgets/controls",
            "_model_module_version": "1.5.0",
            "_model_name": "HTMLModel",
            "_view_count": null,
            "_view_module": "@jupyter-widgets/controls",
            "_view_module_version": "1.5.0",
            "_view_name": "HTMLView",
            "description": "",
            "description_tooltip": null,
            "layout": "IPY_MODEL_f3bc51271f514487b2d58240b77adbdc",
            "placeholder": "​",
            "style": "IPY_MODEL_ab85cadc98ab4d0ebee602069ece75e8",
            "value": " 100000/100000 [03:28&lt;00:00, 551.71it/s]"
          }
        },
        "64d1efc906e6498e9941e0c9e6a18e7e": {
          "model_module": "@jupyter-widgets/controls",
          "model_module_version": "1.5.0",
          "model_name": "ProgressStyleModel",
          "state": {
            "_model_module": "@jupyter-widgets/controls",
            "_model_module_version": "1.5.0",
            "_model_name": "ProgressStyleModel",
            "_view_count": null,
            "_view_module": "@jupyter-widgets/base",
            "_view_module_version": "1.2.0",
            "_view_name": "StyleView",
            "bar_color": null,
            "description_width": ""
          }
        },
        "6760ce5006414ebb8e09fc03c0bdd8bb": {
          "model_module": "@jupyter-widgets/controls",
          "model_module_version": "1.5.0",
          "model_name": "DescriptionStyleModel",
          "state": {
            "_model_module": "@jupyter-widgets/controls",
            "_model_module_version": "1.5.0",
            "_model_name": "DescriptionStyleModel",
            "_view_count": null,
            "_view_module": "@jupyter-widgets/base",
            "_view_module_version": "1.2.0",
            "_view_name": "StyleView",
            "description_width": ""
          }
        },
        "69d090dfcfda4d58a38369e5eb864563": {
          "model_module": "@jupyter-widgets/controls",
          "model_module_version": "1.5.0",
          "model_name": "HTMLModel",
          "state": {
            "_dom_classes": [],
            "_model_module": "@jupyter-widgets/controls",
            "_model_module_version": "1.5.0",
            "_model_name": "HTMLModel",
            "_view_count": null,
            "_view_module": "@jupyter-widgets/controls",
            "_view_module_version": "1.5.0",
            "_view_name": "HTMLView",
            "description": "",
            "description_tooltip": null,
            "layout": "IPY_MODEL_d813b16ff6e54ac28d41764e3f9735ff",
            "placeholder": "​",
            "style": "IPY_MODEL_46e6b8478ac0486b9e1c84b6b158887f",
            "value": "100%"
          }
        },
        "719a576c22c24a16a5c6340a9939ba06": {
          "model_module": "@jupyter-widgets/controls",
          "model_module_version": "1.5.0",
          "model_name": "ProgressStyleModel",
          "state": {
            "_model_module": "@jupyter-widgets/controls",
            "_model_module_version": "1.5.0",
            "_model_name": "ProgressStyleModel",
            "_view_count": null,
            "_view_module": "@jupyter-widgets/base",
            "_view_module_version": "1.2.0",
            "_view_name": "StyleView",
            "bar_color": null,
            "description_width": ""
          }
        },
        "81165c4856f34cb9ac77bbff4306c438": {
          "model_module": "@jupyter-widgets/controls",
          "model_module_version": "1.5.0",
          "model_name": "HTMLModel",
          "state": {
            "_dom_classes": [],
            "_model_module": "@jupyter-widgets/controls",
            "_model_module_version": "1.5.0",
            "_model_name": "HTMLModel",
            "_view_count": null,
            "_view_module": "@jupyter-widgets/controls",
            "_view_module_version": "1.5.0",
            "_view_name": "HTMLView",
            "description": "",
            "description_tooltip": null,
            "layout": "IPY_MODEL_d2b2055ced8f41ab88a8a7cbe6740d4b",
            "placeholder": "​",
            "style": "IPY_MODEL_6760ce5006414ebb8e09fc03c0bdd8bb",
            "value": " 3/3 [03:11&lt;00:00, 66.92s/it]"
          }
        },
        "a8a299aed6ee470185f6e901774b980f": {
          "model_module": "@jupyter-widgets/controls",
          "model_module_version": "1.5.0",
          "model_name": "HBoxModel",
          "state": {
            "_dom_classes": [],
            "_model_module": "@jupyter-widgets/controls",
            "_model_module_version": "1.5.0",
            "_model_name": "HBoxModel",
            "_view_count": null,
            "_view_module": "@jupyter-widgets/controls",
            "_view_module_version": "1.5.0",
            "_view_name": "HBoxView",
            "box_style": "",
            "children": [
              "IPY_MODEL_d9647b854d22475bb90ecb31d40a5196",
              "IPY_MODEL_1b2d254f1ca14708a875752c2c7989d3",
              "IPY_MODEL_81165c4856f34cb9ac77bbff4306c438"
            ],
            "layout": "IPY_MODEL_d57174a3b84545ecb7486f59aac86860"
          }
        },
        "ab85cadc98ab4d0ebee602069ece75e8": {
          "model_module": "@jupyter-widgets/controls",
          "model_module_version": "1.5.0",
          "model_name": "DescriptionStyleModel",
          "state": {
            "_model_module": "@jupyter-widgets/controls",
            "_model_module_version": "1.5.0",
            "_model_name": "DescriptionStyleModel",
            "_view_count": null,
            "_view_module": "@jupyter-widgets/base",
            "_view_module_version": "1.2.0",
            "_view_name": "StyleView",
            "description_width": ""
          }
        },
        "af016c354f1c4725a46fbf2167b6e6be": {
          "model_module": "@jupyter-widgets/controls",
          "model_module_version": "1.5.0",
          "model_name": "FloatProgressModel",
          "state": {
            "_dom_classes": [],
            "_model_module": "@jupyter-widgets/controls",
            "_model_module_version": "1.5.0",
            "_model_name": "FloatProgressModel",
            "_view_count": null,
            "_view_module": "@jupyter-widgets/controls",
            "_view_module_version": "1.5.0",
            "_view_name": "ProgressView",
            "bar_style": "success",
            "description": "",
            "description_tooltip": null,
            "layout": "IPY_MODEL_46f395c55bd947c78da06bcb3d7b88b7",
            "max": 100000,
            "min": 0,
            "orientation": "horizontal",
            "style": "IPY_MODEL_719a576c22c24a16a5c6340a9939ba06",
            "value": 100000
          }
        },
        "bd4882b58e7646a1a5bbf7ff392625f7": {
          "model_module": "@jupyter-widgets/controls",
          "model_module_version": "1.5.0",
          "model_name": "ProgressStyleModel",
          "state": {
            "_model_module": "@jupyter-widgets/controls",
            "_model_module_version": "1.5.0",
            "_model_name": "ProgressStyleModel",
            "_view_count": null,
            "_view_module": "@jupyter-widgets/base",
            "_view_module_version": "1.2.0",
            "_view_name": "StyleView",
            "bar_color": null,
            "description_width": ""
          }
        },
        "bf5c6cf80b8e4b3ba98ca577ae65afd9": {
          "model_module": "@jupyter-widgets/base",
          "model_module_version": "1.2.0",
          "model_name": "LayoutModel",
          "state": {
            "_model_module": "@jupyter-widgets/base",
            "_model_module_version": "1.2.0",
            "_model_name": "LayoutModel",
            "_view_count": null,
            "_view_module": "@jupyter-widgets/base",
            "_view_module_version": "1.2.0",
            "_view_name": "LayoutView",
            "align_content": null,
            "align_items": null,
            "align_self": null,
            "border": null,
            "bottom": null,
            "display": null,
            "flex": null,
            "flex_flow": null,
            "grid_area": null,
            "grid_auto_columns": null,
            "grid_auto_flow": null,
            "grid_auto_rows": null,
            "grid_column": null,
            "grid_gap": null,
            "grid_row": null,
            "grid_template_areas": null,
            "grid_template_columns": null,
            "grid_template_rows": null,
            "height": null,
            "justify_content": null,
            "justify_items": null,
            "left": null,
            "margin": null,
            "max_height": null,
            "max_width": null,
            "min_height": null,
            "min_width": null,
            "object_fit": null,
            "object_position": null,
            "order": null,
            "overflow": null,
            "overflow_x": null,
            "overflow_y": null,
            "padding": null,
            "right": null,
            "top": null,
            "visibility": null,
            "width": null
          }
        },
        "c7b647704ecb4606a1fa5fd4266e002b": {
          "model_module": "@jupyter-widgets/controls",
          "model_module_version": "1.5.0",
          "model_name": "DescriptionStyleModel",
          "state": {
            "_model_module": "@jupyter-widgets/controls",
            "_model_module_version": "1.5.0",
            "_model_name": "DescriptionStyleModel",
            "_view_count": null,
            "_view_module": "@jupyter-widgets/base",
            "_view_module_version": "1.2.0",
            "_view_name": "StyleView",
            "description_width": ""
          }
        },
        "cdf14ef5e2764aae85cb49be7eebb904": {
          "model_module": "@jupyter-widgets/base",
          "model_module_version": "1.2.0",
          "model_name": "LayoutModel",
          "state": {
            "_model_module": "@jupyter-widgets/base",
            "_model_module_version": "1.2.0",
            "_model_name": "LayoutModel",
            "_view_count": null,
            "_view_module": "@jupyter-widgets/base",
            "_view_module_version": "1.2.0",
            "_view_name": "LayoutView",
            "align_content": null,
            "align_items": null,
            "align_self": null,
            "border": null,
            "bottom": null,
            "display": null,
            "flex": null,
            "flex_flow": null,
            "grid_area": null,
            "grid_auto_columns": null,
            "grid_auto_flow": null,
            "grid_auto_rows": null,
            "grid_column": null,
            "grid_gap": null,
            "grid_row": null,
            "grid_template_areas": null,
            "grid_template_columns": null,
            "grid_template_rows": null,
            "height": null,
            "justify_content": null,
            "justify_items": null,
            "left": null,
            "margin": null,
            "max_height": null,
            "max_width": null,
            "min_height": null,
            "min_width": null,
            "object_fit": null,
            "object_position": null,
            "order": null,
            "overflow": null,
            "overflow_x": null,
            "overflow_y": null,
            "padding": null,
            "right": null,
            "top": null,
            "visibility": null,
            "width": null
          }
        },
        "d2b2055ced8f41ab88a8a7cbe6740d4b": {
          "model_module": "@jupyter-widgets/base",
          "model_module_version": "1.2.0",
          "model_name": "LayoutModel",
          "state": {
            "_model_module": "@jupyter-widgets/base",
            "_model_module_version": "1.2.0",
            "_model_name": "LayoutModel",
            "_view_count": null,
            "_view_module": "@jupyter-widgets/base",
            "_view_module_version": "1.2.0",
            "_view_name": "LayoutView",
            "align_content": null,
            "align_items": null,
            "align_self": null,
            "border": null,
            "bottom": null,
            "display": null,
            "flex": null,
            "flex_flow": null,
            "grid_area": null,
            "grid_auto_columns": null,
            "grid_auto_flow": null,
            "grid_auto_rows": null,
            "grid_column": null,
            "grid_gap": null,
            "grid_row": null,
            "grid_template_areas": null,
            "grid_template_columns": null,
            "grid_template_rows": null,
            "height": null,
            "justify_content": null,
            "justify_items": null,
            "left": null,
            "margin": null,
            "max_height": null,
            "max_width": null,
            "min_height": null,
            "min_width": null,
            "object_fit": null,
            "object_position": null,
            "order": null,
            "overflow": null,
            "overflow_x": null,
            "overflow_y": null,
            "padding": null,
            "right": null,
            "top": null,
            "visibility": null,
            "width": null
          }
        },
        "d57174a3b84545ecb7486f59aac86860": {
          "model_module": "@jupyter-widgets/base",
          "model_module_version": "1.2.0",
          "model_name": "LayoutModel",
          "state": {
            "_model_module": "@jupyter-widgets/base",
            "_model_module_version": "1.2.0",
            "_model_name": "LayoutModel",
            "_view_count": null,
            "_view_module": "@jupyter-widgets/base",
            "_view_module_version": "1.2.0",
            "_view_name": "LayoutView",
            "align_content": null,
            "align_items": null,
            "align_self": null,
            "border": null,
            "bottom": null,
            "display": null,
            "flex": null,
            "flex_flow": null,
            "grid_area": null,
            "grid_auto_columns": null,
            "grid_auto_flow": null,
            "grid_auto_rows": null,
            "grid_column": null,
            "grid_gap": null,
            "grid_row": null,
            "grid_template_areas": null,
            "grid_template_columns": null,
            "grid_template_rows": null,
            "height": null,
            "justify_content": null,
            "justify_items": null,
            "left": null,
            "margin": null,
            "max_height": null,
            "max_width": null,
            "min_height": null,
            "min_width": null,
            "object_fit": null,
            "object_position": null,
            "order": null,
            "overflow": null,
            "overflow_x": null,
            "overflow_y": null,
            "padding": null,
            "right": null,
            "top": null,
            "visibility": null,
            "width": null
          }
        },
        "d813b16ff6e54ac28d41764e3f9735ff": {
          "model_module": "@jupyter-widgets/base",
          "model_module_version": "1.2.0",
          "model_name": "LayoutModel",
          "state": {
            "_model_module": "@jupyter-widgets/base",
            "_model_module_version": "1.2.0",
            "_model_name": "LayoutModel",
            "_view_count": null,
            "_view_module": "@jupyter-widgets/base",
            "_view_module_version": "1.2.0",
            "_view_name": "LayoutView",
            "align_content": null,
            "align_items": null,
            "align_self": null,
            "border": null,
            "bottom": null,
            "display": null,
            "flex": null,
            "flex_flow": null,
            "grid_area": null,
            "grid_auto_columns": null,
            "grid_auto_flow": null,
            "grid_auto_rows": null,
            "grid_column": null,
            "grid_gap": null,
            "grid_row": null,
            "grid_template_areas": null,
            "grid_template_columns": null,
            "grid_template_rows": null,
            "height": null,
            "justify_content": null,
            "justify_items": null,
            "left": null,
            "margin": null,
            "max_height": null,
            "max_width": null,
            "min_height": null,
            "min_width": null,
            "object_fit": null,
            "object_position": null,
            "order": null,
            "overflow": null,
            "overflow_x": null,
            "overflow_y": null,
            "padding": null,
            "right": null,
            "top": null,
            "visibility": null,
            "width": null
          }
        },
        "d9647b854d22475bb90ecb31d40a5196": {
          "model_module": "@jupyter-widgets/controls",
          "model_module_version": "1.5.0",
          "model_name": "HTMLModel",
          "state": {
            "_dom_classes": [],
            "_model_module": "@jupyter-widgets/controls",
            "_model_module_version": "1.5.0",
            "_model_name": "HTMLModel",
            "_view_count": null,
            "_view_module": "@jupyter-widgets/controls",
            "_view_module_version": "1.5.0",
            "_view_name": "HTMLView",
            "description": "",
            "description_tooltip": null,
            "layout": "IPY_MODEL_217352fcd9c243c8becdecefe2f01f50",
            "placeholder": "​",
            "style": "IPY_MODEL_f48d50108c6543f3b1db17ef25a6f445",
            "value": "100%"
          }
        },
        "e6dd3e004ac249739e076eff15319e8f": {
          "model_module": "@jupyter-widgets/base",
          "model_module_version": "1.2.0",
          "model_name": "LayoutModel",
          "state": {
            "_model_module": "@jupyter-widgets/base",
            "_model_module_version": "1.2.0",
            "_model_name": "LayoutModel",
            "_view_count": null,
            "_view_module": "@jupyter-widgets/base",
            "_view_module_version": "1.2.0",
            "_view_name": "LayoutView",
            "align_content": null,
            "align_items": null,
            "align_self": null,
            "border": null,
            "bottom": null,
            "display": null,
            "flex": null,
            "flex_flow": null,
            "grid_area": null,
            "grid_auto_columns": null,
            "grid_auto_flow": null,
            "grid_auto_rows": null,
            "grid_column": null,
            "grid_gap": null,
            "grid_row": null,
            "grid_template_areas": null,
            "grid_template_columns": null,
            "grid_template_rows": null,
            "height": null,
            "justify_content": null,
            "justify_items": null,
            "left": null,
            "margin": null,
            "max_height": null,
            "max_width": null,
            "min_height": null,
            "min_width": null,
            "object_fit": null,
            "object_position": null,
            "order": null,
            "overflow": null,
            "overflow_x": null,
            "overflow_y": null,
            "padding": null,
            "right": null,
            "top": null,
            "visibility": null,
            "width": null
          }
        },
        "e81c002eb7a243b8837908c1b72a4cb9": {
          "model_module": "@jupyter-widgets/controls",
          "model_module_version": "1.5.0",
          "model_name": "HTMLModel",
          "state": {
            "_dom_classes": [],
            "_model_module": "@jupyter-widgets/controls",
            "_model_module_version": "1.5.0",
            "_model_name": "HTMLModel",
            "_view_count": null,
            "_view_module": "@jupyter-widgets/controls",
            "_view_module_version": "1.5.0",
            "_view_name": "HTMLView",
            "description": "",
            "description_tooltip": null,
            "layout": "IPY_MODEL_0548d44f4dac4db2810053314b04e160",
            "placeholder": "​",
            "style": "IPY_MODEL_1a4ceabe0ebe41ffbc9dd00a51ca7b1c",
            "value": " 100000/100000 [02:34&lt;00:00, 484.00it/s]"
          }
        },
        "f104ab1d24c3453a93420073cd940e95": {
          "model_module": "@jupyter-widgets/controls",
          "model_module_version": "1.5.0",
          "model_name": "HBoxModel",
          "state": {
            "_dom_classes": [],
            "_model_module": "@jupyter-widgets/controls",
            "_model_module_version": "1.5.0",
            "_model_name": "HBoxModel",
            "_view_count": null,
            "_view_module": "@jupyter-widgets/controls",
            "_view_module_version": "1.5.0",
            "_view_name": "HBoxView",
            "box_style": "",
            "children": [
              "IPY_MODEL_69d090dfcfda4d58a38369e5eb864563",
              "IPY_MODEL_225a4c6be39944deb3f295b0cb9a6297",
              "IPY_MODEL_e81c002eb7a243b8837908c1b72a4cb9"
            ],
            "layout": "IPY_MODEL_436954001c3540ea80d77c296b15d330"
          }
        },
        "f197a8e837bb4fdfaf6ac881ae65a793": {
          "model_module": "@jupyter-widgets/base",
          "model_module_version": "1.2.0",
          "model_name": "LayoutModel",
          "state": {
            "_model_module": "@jupyter-widgets/base",
            "_model_module_version": "1.2.0",
            "_model_name": "LayoutModel",
            "_view_count": null,
            "_view_module": "@jupyter-widgets/base",
            "_view_module_version": "1.2.0",
            "_view_name": "LayoutView",
            "align_content": null,
            "align_items": null,
            "align_self": null,
            "border": null,
            "bottom": null,
            "display": null,
            "flex": null,
            "flex_flow": null,
            "grid_area": null,
            "grid_auto_columns": null,
            "grid_auto_flow": null,
            "grid_auto_rows": null,
            "grid_column": null,
            "grid_gap": null,
            "grid_row": null,
            "grid_template_areas": null,
            "grid_template_columns": null,
            "grid_template_rows": null,
            "height": null,
            "justify_content": null,
            "justify_items": null,
            "left": null,
            "margin": null,
            "max_height": null,
            "max_width": null,
            "min_height": null,
            "min_width": null,
            "object_fit": null,
            "object_position": null,
            "order": null,
            "overflow": null,
            "overflow_x": null,
            "overflow_y": null,
            "padding": null,
            "right": null,
            "top": null,
            "visibility": null,
            "width": null
          }
        },
        "f3bc51271f514487b2d58240b77adbdc": {
          "model_module": "@jupyter-widgets/base",
          "model_module_version": "1.2.0",
          "model_name": "LayoutModel",
          "state": {
            "_model_module": "@jupyter-widgets/base",
            "_model_module_version": "1.2.0",
            "_model_name": "LayoutModel",
            "_view_count": null,
            "_view_module": "@jupyter-widgets/base",
            "_view_module_version": "1.2.0",
            "_view_name": "LayoutView",
            "align_content": null,
            "align_items": null,
            "align_self": null,
            "border": null,
            "bottom": null,
            "display": null,
            "flex": null,
            "flex_flow": null,
            "grid_area": null,
            "grid_auto_columns": null,
            "grid_auto_flow": null,
            "grid_auto_rows": null,
            "grid_column": null,
            "grid_gap": null,
            "grid_row": null,
            "grid_template_areas": null,
            "grid_template_columns": null,
            "grid_template_rows": null,
            "height": null,
            "justify_content": null,
            "justify_items": null,
            "left": null,
            "margin": null,
            "max_height": null,
            "max_width": null,
            "min_height": null,
            "min_width": null,
            "object_fit": null,
            "object_position": null,
            "order": null,
            "overflow": null,
            "overflow_x": null,
            "overflow_y": null,
            "padding": null,
            "right": null,
            "top": null,
            "visibility": null,
            "width": null
          }
        },
        "f48d50108c6543f3b1db17ef25a6f445": {
          "model_module": "@jupyter-widgets/controls",
          "model_module_version": "1.5.0",
          "model_name": "DescriptionStyleModel",
          "state": {
            "_model_module": "@jupyter-widgets/controls",
            "_model_module_version": "1.5.0",
            "_model_name": "DescriptionStyleModel",
            "_view_count": null,
            "_view_module": "@jupyter-widgets/base",
            "_view_module_version": "1.2.0",
            "_view_name": "StyleView",
            "description_width": ""
          }
        }
      }
    }
  },
  "nbformat": 4,
  "nbformat_minor": 0
}
